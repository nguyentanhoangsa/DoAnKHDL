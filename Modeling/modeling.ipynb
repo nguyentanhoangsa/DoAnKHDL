{
 "cells": [
  {
   "attachments": {},
   "cell_type": "markdown",
   "metadata": {},
   "source": [
    "## =============Modeling nhóm 7=================="
   ]
  },
  {
   "attachments": {},
   "cell_type": "markdown",
   "metadata": {},
   "source": [
    "##### MODEL DỰ ĐOÁN LƯỢNG NĂNG LƯỢNG TIÊU THỤ CỦA NĂNG LƯỢNG GIÓ VÀO NHỮNG LOẠI NĂNG LƯỢNG KHÁC"
   ]
  },
  {
   "cell_type": "code",
   "execution_count": 23,
   "metadata": {},
   "outputs": [],
   "source": [
    "#import thư viện\n",
    "import pandas as pd\n",
    "import matplotlib.pyplot as plt\n",
    "import numpy as np\n",
    "import seaborn as sns"
   ]
  },
  {
   "attachments": {},
   "cell_type": "markdown",
   "metadata": {},
   "source": [
    "##### 1. Đọc dữ liệu và vẽ biểu đồ tìm kiếm sự tương quan giữa các cột"
   ]
  },
  {
   "cell_type": "code",
   "execution_count": 24,
   "metadata": {},
   "outputs": [
    {
     "name": "stdout",
     "output_type": "stream",
     "text": [
      "Shape: (1817, 10)\n"
     ]
    },
    {
     "data": {
      "text/html": [
       "<div>\n",
       "<style scoped>\n",
       "    .dataframe tbody tr th:only-of-type {\n",
       "        vertical-align: middle;\n",
       "    }\n",
       "\n",
       "    .dataframe tbody tr th {\n",
       "        vertical-align: top;\n",
       "    }\n",
       "\n",
       "    .dataframe thead th {\n",
       "        text-align: right;\n",
       "    }\n",
       "</style>\n",
       "<table border=\"1\" class=\"dataframe\">\n",
       "  <thead>\n",
       "    <tr style=\"text-align: right;\">\n",
       "      <th></th>\n",
       "      <th>Country</th>\n",
       "      <th>Year</th>\n",
       "      <th>Fossil fuels (TWh)</th>\n",
       "      <th>Coal (TWh)</th>\n",
       "      <th>Oil (TWh)</th>\n",
       "      <th>Gas (TWh)</th>\n",
       "      <th>Renewables (TWh)</th>\n",
       "      <th>Hydropower (TWh)</th>\n",
       "      <th>Solar (TWh)</th>\n",
       "      <th>Wind (TWh)</th>\n",
       "    </tr>\n",
       "  </thead>\n",
       "  <tbody>\n",
       "    <tr>\n",
       "      <th>0</th>\n",
       "      <td>Algeria</td>\n",
       "      <td>2000</td>\n",
       "      <td>300.0</td>\n",
       "      <td>5.64</td>\n",
       "      <td>103.13</td>\n",
       "      <td>191.01</td>\n",
       "      <td>0.0</td>\n",
       "      <td>0.0</td>\n",
       "      <td>0.0</td>\n",
       "      <td>0.0</td>\n",
       "    </tr>\n",
       "    <tr>\n",
       "      <th>1</th>\n",
       "      <td>Argentina</td>\n",
       "      <td>2000</td>\n",
       "      <td>595.0</td>\n",
       "      <td>7.51</td>\n",
       "      <td>264.94</td>\n",
       "      <td>322.97</td>\n",
       "      <td>86.0</td>\n",
       "      <td>84.0</td>\n",
       "      <td>0.0</td>\n",
       "      <td>0.0</td>\n",
       "    </tr>\n",
       "    <tr>\n",
       "      <th>2</th>\n",
       "      <td>Australia</td>\n",
       "      <td>2000</td>\n",
       "      <td>1253.0</td>\n",
       "      <td>591.66</td>\n",
       "      <td>455.98</td>\n",
       "      <td>205.55</td>\n",
       "      <td>52.0</td>\n",
       "      <td>49.0</td>\n",
       "      <td>0.0</td>\n",
       "      <td>0.0</td>\n",
       "    </tr>\n",
       "    <tr>\n",
       "      <th>3</th>\n",
       "      <td>Austria</td>\n",
       "      <td>2000</td>\n",
       "      <td>262.0</td>\n",
       "      <td>42.47</td>\n",
       "      <td>141.75</td>\n",
       "      <td>78.21</td>\n",
       "      <td>129.0</td>\n",
       "      <td>124.0</td>\n",
       "      <td>0.0</td>\n",
       "      <td>0.0</td>\n",
       "    </tr>\n",
       "    <tr>\n",
       "      <th>4</th>\n",
       "      <td>Azerbaijan</td>\n",
       "      <td>2000</td>\n",
       "      <td>128.0</td>\n",
       "      <td>0.00</td>\n",
       "      <td>74.69</td>\n",
       "      <td>52.83</td>\n",
       "      <td>5.0</td>\n",
       "      <td>5.0</td>\n",
       "      <td>0.0</td>\n",
       "      <td>0.0</td>\n",
       "    </tr>\n",
       "  </tbody>\n",
       "</table>\n",
       "</div>"
      ],
      "text/plain": [
       "      Country  Year  Fossil fuels (TWh)  Coal (TWh)  Oil (TWh)  Gas (TWh)  \\\n",
       "0     Algeria  2000               300.0        5.64     103.13     191.01   \n",
       "1   Argentina  2000               595.0        7.51     264.94     322.97   \n",
       "2   Australia  2000              1253.0      591.66     455.98     205.55   \n",
       "3     Austria  2000               262.0       42.47     141.75      78.21   \n",
       "4  Azerbaijan  2000               128.0        0.00      74.69      52.83   \n",
       "\n",
       "   Renewables (TWh)  Hydropower (TWh)  Solar (TWh)  Wind (TWh)  \n",
       "0               0.0               0.0          0.0         0.0  \n",
       "1              86.0              84.0          0.0         0.0  \n",
       "2              52.0              49.0          0.0         0.0  \n",
       "3             129.0             124.0          0.0         0.0  \n",
       "4               5.0               5.0          0.0         0.0  "
      ]
     },
     "execution_count": 24,
     "metadata": {},
     "output_type": "execute_result"
    }
   ],
   "source": [
    "#Đọc dataframe\n",
    "df = pd.read_csv('../Data/data_processed.csv')\n",
    "print(f'Shape: {df.shape}')\n",
    "df.head(5)"
   ]
  },
  {
   "cell_type": "code",
   "execution_count": 25,
   "metadata": {},
   "outputs": [
    {
     "name": "stdout",
     "output_type": "stream",
     "text": [
      "<class 'pandas.core.frame.DataFrame'>\n",
      "RangeIndex: 1817 entries, 0 to 1816\n",
      "Data columns (total 6 columns):\n",
      " #   Column            Non-Null Count  Dtype  \n",
      "---  ------            --------------  -----  \n",
      " 0   Coal (TWh)        1817 non-null   float64\n",
      " 1   Oil (TWh)         1817 non-null   float64\n",
      " 2   Gas (TWh)         1817 non-null   float64\n",
      " 3   Hydropower (TWh)  1817 non-null   float64\n",
      " 4   Solar (TWh)       1817 non-null   float64\n",
      " 5   Wind (TWh)        1817 non-null   float64\n",
      "dtypes: float64(6)\n",
      "memory usage: 85.3 KB\n"
     ]
    }
   ],
   "source": [
    "#Bỏ những cột không cần thiết cho việc huấn luyện model\n",
    "df = df.drop(['Country', 'Year', 'Fossil fuels (TWh)', 'Renewables (TWh)'], axis = 1)\n",
    "df.info()"
   ]
  },
  {
   "cell_type": "code",
   "execution_count": 26,
   "metadata": {},
   "outputs": [
    {
     "data": {
      "text/plain": [
       "<seaborn.axisgrid.PairGrid at 0x7fdfd49db100>"
      ]
     },
     "execution_count": 26,
     "metadata": {},
     "output_type": "execute_result"
    }
   ],
   "source": [
    "#Vẽ biểu đồ tìm kiếm sự tương quan giữa các cặp trong biểu đồ\n",
    "sns.pairplot(data = df, height = 2)  "
   ]
  },
  {
   "cell_type": "code",
   "execution_count": 27,
   "metadata": {},
   "outputs": [
    {
     "name": "stdout",
     "output_type": "stream",
     "text": [
      "Ma trận tương quan giữa các biến độc lập: \n",
      "                   Coal (TWh)  Oil (TWh)  Gas (TWh)  Hydropower (TWh)  \\\n",
      "Coal (TWh)          1.000000   0.649843   0.369401          0.817346   \n",
      "Oil (TWh)           0.649843   1.000000   0.850148          0.633961   \n",
      "Gas (TWh)           0.369401   0.850148   1.000000          0.441800   \n",
      "Hydropower (TWh)    0.817346   0.633961   0.441800          1.000000   \n",
      "Solar (TWh)         0.542626   0.491895   0.398338          0.553328   \n",
      "Wind (TWh)          0.628963   0.639290   0.535144          0.650722   \n",
      "\n",
      "                  Solar (TWh)  Wind (TWh)  \n",
      "Coal (TWh)           0.542626    0.628963  \n",
      "Oil (TWh)            0.491895    0.639290  \n",
      "Gas (TWh)            0.398338    0.535144  \n",
      "Hydropower (TWh)     0.553328    0.650722  \n",
      "Solar (TWh)          1.000000    0.909213  \n",
      "Wind (TWh)           0.909213    1.000000  \n"
     ]
    }
   ],
   "source": [
    "#Vẽ biểu đồ heatmap để thấy được sự tương quan rõ ràng hơn\n",
    "feature = df.columns\n",
    "corr = df[feature].corr()  \n",
    "print('Ma trận tương quan giữa các biến độc lập: \\n', corr)  \n",
    "  \n",
    "# Tạo một ma trận zeros có cùng kích thước và kiểu dữ liệu như ma trận tương quan corr.  \n",
    "masking = np.zeros_like(corr, dtype=np.bool_)\n",
    "# Đặt các phần tử trên đường chéo chính của ma trận masking thành True. Điều này sẽ \"che\" các ô trên đường chéo vì chúng thường có giá trị 1 (tương quan của một biến với chính nó là 1).\n",
    "np.fill_diagonal(masking, val = True)  \n",
    "\n",
    "#  Tạo một subplot với kích thước 4x3 để vẽ biểu đồ heatmap.\n",
    "figure, axis = plt.subplots(figsize = (4, 3))  \n",
    "  \n",
    "# màu sẽ chuyển từ một màu có mã màu 223 đến một màu có mã màu 14.\n",
    "c_map = sns.diverging_palette(223, 14, as_cmap = True, sep = 100)  \n",
    "# Đặt màu cho các ô dữ liệu bị thiếu (nếu có) thành màu xám.\n",
    "c_map.set_bad('grey')  \n",
    "  \n",
    "# Vẽ biểu đồ heatmap \n",
    "sns.heatmap(corr, annot = True, mask = masking, cmap = c_map, vmin = -1, vmax = 1, center = 1, linewidths = 1)  \n",
    "figure.suptitle('Heatmap thể hiện ma trận tương quan giữa các biến', fontsize = 14)  \n",
    "axis.tick_params(axis = 'both', which = 'major', labelsize = 10)  "
   ]
  },
  {
   "attachments": {},
   "cell_type": "markdown",
   "metadata": {},
   "source": [
    "##### 2. Modeling\n",
    "    - Lấy bộ dữ liệu để train và test"
   ]
  },
  {
   "cell_type": "code",
   "execution_count": 28,
   "metadata": {},
   "outputs": [
    {
     "data": {
      "text/html": [
       "<div>\n",
       "<style scoped>\n",
       "    .dataframe tbody tr th:only-of-type {\n",
       "        vertical-align: middle;\n",
       "    }\n",
       "\n",
       "    .dataframe tbody tr th {\n",
       "        vertical-align: top;\n",
       "    }\n",
       "\n",
       "    .dataframe thead th {\n",
       "        text-align: right;\n",
       "    }\n",
       "</style>\n",
       "<table border=\"1\" class=\"dataframe\">\n",
       "  <thead>\n",
       "    <tr style=\"text-align: right;\">\n",
       "      <th></th>\n",
       "      <th>Coal (TWh)</th>\n",
       "      <th>Oil (TWh)</th>\n",
       "      <th>Gas (TWh)</th>\n",
       "      <th>Hydropower (TWh)</th>\n",
       "      <th>Solar (TWh)</th>\n",
       "    </tr>\n",
       "  </thead>\n",
       "  <tbody>\n",
       "    <tr>\n",
       "      <th>292</th>\n",
       "      <td>106.62</td>\n",
       "      <td>111.21</td>\n",
       "      <td>171.30</td>\n",
       "      <td>38.0</td>\n",
       "      <td>0.0</td>\n",
       "    </tr>\n",
       "    <tr>\n",
       "      <th>1417</th>\n",
       "      <td>114.23</td>\n",
       "      <td>882.49</td>\n",
       "      <td>785.49</td>\n",
       "      <td>16.0</td>\n",
       "      <td>30.0</td>\n",
       "    </tr>\n",
       "    <tr>\n",
       "      <th>1548</th>\n",
       "      <td>9.07</td>\n",
       "      <td>109.58</td>\n",
       "      <td>45.75</td>\n",
       "      <td>330.0</td>\n",
       "      <td>0.0</td>\n",
       "    </tr>\n",
       "    <tr>\n",
       "      <th>300</th>\n",
       "      <td>234.10</td>\n",
       "      <td>885.72</td>\n",
       "      <td>248.29</td>\n",
       "      <td>119.0</td>\n",
       "      <td>0.0</td>\n",
       "    </tr>\n",
       "    <tr>\n",
       "      <th>1704</th>\n",
       "      <td>18.39</td>\n",
       "      <td>83.84</td>\n",
       "      <td>38.74</td>\n",
       "      <td>63.0</td>\n",
       "      <td>1.0</td>\n",
       "    </tr>\n",
       "  </tbody>\n",
       "</table>\n",
       "</div>"
      ],
      "text/plain": [
       "      Coal (TWh)  Oil (TWh)  Gas (TWh)  Hydropower (TWh)  Solar (TWh)\n",
       "292       106.62     111.21     171.30              38.0          0.0\n",
       "1417      114.23     882.49     785.49              16.0         30.0\n",
       "1548        9.07     109.58      45.75             330.0          0.0\n",
       "300       234.10     885.72     248.29             119.0          0.0\n",
       "1704       18.39      83.84      38.74              63.0          1.0"
      ]
     },
     "execution_count": 28,
     "metadata": {},
     "output_type": "execute_result"
    }
   ],
   "source": [
    "from sklearn.model_selection import train_test_split\n",
    "feature_cols = ['Coal (TWh)', 'Oil (TWh)', 'Gas (TWh)', 'Hydropower (TWh)', 'Solar (TWh)']\n",
    "\n",
    "X = df[feature_cols]\n",
    "Y = df['Wind (TWh)']\n",
    "\n",
    "# Tham số test_size là để lấy bộ test chiếm 20% và random_state là trạng thái random không thay đổi tức là qua những lần chạy khác nhau thì bộ dữ liệu tương đồng nhau.\n",
    "X_train, X_test, Y_train, Y_test = train_test_split(X, Y, test_size=0.2, random_state=42)\n",
    "X_train.head()"
   ]
  },
  {
   "attachments": {},
   "cell_type": "markdown",
   "metadata": {},
   "source": [
    "    a. Linear Regression"
   ]
  },
  {
   "cell_type": "code",
   "execution_count": 29,
   "metadata": {},
   "outputs": [],
   "source": [
    "from sklearn.linear_model import LinearRegression\n",
    "from sklearn.metrics import mean_squared_error, r2_score"
   ]
  },
  {
   "cell_type": "code",
   "execution_count": 30,
   "metadata": {},
   "outputs": [
    {
     "name": "stdout",
     "output_type": "stream",
     "text": [
      "MSE= 1056.709156825928 \n",
      "R_square= 0.9341718936290818\n",
      "      Y_test     Y_pred\n",
      "1507     0.0  -2.936657\n",
      "680      0.0   0.253061\n",
      "135      0.0  71.610503\n",
      "408      0.0  -0.551965\n",
      "591      0.0  -5.487614\n",
      "...      ...        ...\n",
      "534      0.0  -5.384441\n",
      "710      0.0  -1.285479\n",
      "432      0.0   0.949908\n",
      "1105     0.0   2.247996\n",
      "170      2.0  66.456102\n",
      "\n",
      "[364 rows x 2 columns]\n"
     ]
    }
   ],
   "source": [
    "#Tạo model\n",
    "lr = LinearRegression()\n",
    "\n",
    "# Train \n",
    "lr.fit(X_train, Y_train)\n",
    "\n",
    "# Dự đoán kết quả dựa trên tập X_test\n",
    "Y_pred = lr.predict(X_test)\n",
    "\n",
    "# Tính MSE\n",
    "mse = mean_squared_error(Y_test, Y_pred)\n",
    "\n",
    "# Tính R_square\n",
    "r2 = r2_score(Y_test, Y_pred)\n",
    "\n",
    "print('MSE=',mse,'\\nR_square=', r2)\n",
    "\n",
    "# Tạo DataFrame từ Y_test và Y_pred để dễ so sánh\n",
    "df_compare = pd.DataFrame({'Y_test': Y_test, 'Y_pred': Y_pred})\n",
    "print(df_compare)\n"
   ]
  },
  {
   "cell_type": "code",
   "execution_count": 38,
   "metadata": {},
   "outputs": [
    {
     "name": "stdout",
     "output_type": "stream",
     "text": [
      "MSE= 1481.4654780978838 \n",
      "R_square= 0.9341718936290818\n",
      "      Y_test    Y_pred\n",
      "1507     0.0  1.151693\n",
      "680      0.0  1.682279\n",
      "135      0.0  8.429033\n",
      "408      0.0  3.629633\n",
      "591      0.0  1.158837\n",
      "...      ...       ...\n",
      "534      0.0  1.460361\n",
      "710      0.0  4.201914\n",
      "432      0.0  4.585612\n",
      "1105     0.0  5.644386\n",
      "170      2.0 -4.687947\n",
      "\n",
      "[364 rows x 2 columns]\n"
     ]
    }
   ],
   "source": [
    "#Tinh chỉnh mô hình LinearRegression\n",
    "from sklearn.preprocessing import PolynomialFeatures\n",
    "from sklearn.pipeline import make_pipeline\n",
    "\n",
    "\n",
    "# Tạo bậc huấn luyện bây giờ là 2, không còn là 1 như trước là chỉ có một thuộc tính\n",
    "#Ví dụ có 3 biến a,b,c thì sẽ tạo ra các phương trình nhiều biến gồm a^2,b^2,c^2, ab,ac,bc. kiểu vậy\n",
    "degree = 2\n",
    "\n",
    "# Tạo pipeline để huấn luyện cho mô hình\n",
    "model = make_pipeline(PolynomialFeatures(degree), lr)\n",
    "\n",
    "# Train model\n",
    "model.fit(X_train, Y_train)\n",
    "\n",
    "# TÍnh dự đoán\n",
    "Y_pred = model.predict(X_test)\n",
    "\n",
    "#Tính MSE\n",
    "mse = mean_squared_error(Y_test, Y_pred)\n",
    "\n",
    "\n",
    "print('MSE=',mse,'\\nR_square=', r2)\n",
    "\n",
    "# Tạo DataFrame từ Y_test và Y_pred để dễ so sánh\n",
    "df_compare = pd.DataFrame({'Y_test': Y_test, 'Y_pred': Y_pred})\n",
    "print(df_compare)\n"
   ]
  },
  {
   "attachments": {},
   "cell_type": "markdown",
   "metadata": {},
   "source": [
    "- Sau khi tinh chỉnh thì ta thấy MSE tăng lên cho thấy quá trình tinh chỉnh không hiệu quả hoặc nó bị overfitting chỉ cho kết quả tốt trên tập train và không tốt trên tập test.\n",
    "- Vì vậy cho thấy ở Model Linear Regression này thì degree=1 vẫn cho kết quả tốt nhất."
   ]
  }
 ],
 "metadata": {
  "kernelspec": {
   "display_name": "Python 3",
   "language": "python",
   "name": "python3"
  },
  "language_info": {
   "codemirror_mode": {
    "name": "ipython",
    "version": 3
   },
   "file_extension": ".py",
   "mimetype": "text/x-python",
   "name": "python",
   "nbconvert_exporter": "python",
   "pygments_lexer": "ipython3",
   "version": "3.9.13"
  },
  "orig_nbformat": 4,
  "vscode": {
   "interpreter": {
    "hash": "a897ecb8d91bfc7f294ab6da99f9baa00d09906c3ac640a3c63be6db9bb3112f"
   }
  }
 },
 "nbformat": 4,
 "nbformat_minor": 2
}
