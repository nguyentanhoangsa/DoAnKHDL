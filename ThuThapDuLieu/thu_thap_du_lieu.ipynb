{
 "cells": [
  {
   "cell_type": "markdown",
   "id": "ac95f7ff",
   "metadata": {},
   "source": [
    "Nhóm 7:\n",
    "    21120083_Phan Văn Khải\n",
    "    21120096_Hồ Châu Long\n",
    "    21120126_Nguyễn Tấn Hoàng Sa"
   ]
  },
  {
   "cell_type": "markdown",
   "id": "793306eb",
   "metadata": {},
   "source": [
    "=============================================Thu Thập Dữ Liệu==================================="
   ]
  },
  {
   "cell_type": "code",
   "execution_count": 1,
   "id": "b9fad4a2",
   "metadata": {},
   "outputs": [],
   "source": [
    "import numpy as np\n",
    "import selenium\n",
    "from selenium import webdriver\n",
    "from time import sleep\n",
    "import random\n",
    "from selenium.webdriver.common.keys import Keys\n",
    "from selenium.common.exceptions import NoSuchElementException, ElementNotInteractableException\n",
    "from selenium.webdriver.common.by import By\n",
    "import pandas as pd\n",
    "import os"
   ]
  },
  {
   "cell_type": "markdown",
   "id": "6efcc726",
   "metadata": {},
   "source": [
    "2.1.1 Thu thập dữ liệu"
   ]
  },
  {
   "cell_type": "code",
   "execution_count": null,
   "id": "f122b375",
   "metadata": {},
   "outputs": [],
   "source": [
    "driver = selenium.webdriver.Chrome()\n",
    "base_url = \"https://ourworldindata.org/explorers/energy?\""
   ]
  },
  {
   "cell_type": "code",
   "execution_count": 2,
   "id": "afb43f42",
   "metadata": {},
   "outputs": [],
   "source": [
    "def crawl_data(year, type):\n",
    "    url = base_url+'tab=table&time={y}&facet=none&country=USA~GBR~CHN~OWID_WRL~IND~BRA~ZAF&hideControls=false&Total+or+Breakdown=Select+a+source&Energy+or+Electricity=Primary+energy&Metric=Annual+consumption&Select+a+source={t}'.format(y = year, t = type)\n",
    "    driver.get(url)\n",
    "    sleep(random.randint(5,10))\n",
    "\n",
    "    elems_coutry = driver.find_elements(By.CSS_SELECTOR, \".entity\")\n",
    "    country = [elem.text for elem in elems_coutry]\n",
    "\n",
    "    data =[]\n",
    "    data.append(0)\n",
    "    nam = []\n",
    "    for i in range (1,len(country)+1):\n",
    "        nam.append(int(year))\n",
    "        try:\n",
    "            elem_data = driver.find_element(\"xpath\", \"/html/body/main/div/div[3]/div/div[4]/div/div[2]/table/tbody/tr[{}]/td[2]\".format(i))\n",
    "            data.append(elem_data.text)\n",
    "        except NoSuchElementException:\n",
    "            data.append(None)\n",
    "\n",
    "    df = pd.DataFrame(list(zip(country,nam,data)),columns= ['Country','Year',type])\n",
    "    df = df = df.drop([0], axis=0)\n",
    "    df = df.drop(labels=df.index[-24:])\n",
    "    return df"
   ]
  },
  {
   "cell_type": "code",
   "execution_count": 3,
   "id": "fdeb4b59",
   "metadata": {},
   "outputs": [],
   "source": [
    "def crawl_type_data(type):\n",
    "    df = pd.DataFrame(columns= ['Country','Year',type])\n",
    "    for i in range(2000,2023):\n",
    "        df1 = crawl_data(i, type)\n",
    "        df = pd.merge(df, df1 ,how='outer',on=['Country','Year',type])\n",
    "    return df"
   ]
  },
  {
   "cell_type": "code",
   "execution_count": 4,
   "id": "de306746",
   "metadata": {},
   "outputs": [],
   "source": [
    "\n",
    "def crawl_full_data(types):\n",
    "    df = pd.DataFrame(columns= ['Country','Year'])\n",
    "    for type in types:\n",
    "        df1 = crawl_type_data(type)\n",
    "        df = pd.merge(df, df1 ,how='outer',on=['Country','Year'])\n",
    "    return df"
   ]
  },
  {
   "cell_type": "code",
   "execution_count": null,
   "id": "50be6356",
   "metadata": {},
   "outputs": [],
   "source": [
    "types = ['Fossil fuels','Coal','Oil','Gas','Renewables','Hydropower','Solar','Wind']\n",
    "df = crawl_full_data(types)\n",
    "df = df.set_index(\"Country\")\n",
    "folder_data = \"../Data/\"\n",
    "pathData = os.path.join(folder_data, \"data.csv\")\n",
    "df.to_csv(pathData)"
   ]
  },
  {
   "cell_type": "markdown",
   "metadata": {},
   "source": []
  }
 ],
 "metadata": {
  "kernelspec": {
   "display_name": "Python 3 (ipykernel)",
   "language": "python",
   "name": "python3"
  },
  "language_info": {
   "codemirror_mode": {
    "name": "ipython",
    "version": 3
   },
   "file_extension": ".py",
   "mimetype": "text/x-python",
   "name": "python",
   "nbconvert_exporter": "python",
   "pygments_lexer": "ipython3",
   "version": "3.11.5"
  }
 },
 "nbformat": 4,
 "nbformat_minor": 5
}
