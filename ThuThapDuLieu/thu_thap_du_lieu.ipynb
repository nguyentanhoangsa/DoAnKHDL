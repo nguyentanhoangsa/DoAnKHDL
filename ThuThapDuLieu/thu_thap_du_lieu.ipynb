{
 "cells": [
  {
   "cell_type": "markdown",
   "id": "ac95f7ff",
   "metadata": {},
   "source": [
    "Nhóm 7:\n",
    "    21120083_Phan Văn Khải\n",
    "    21120096_Hồ Châu Long\n",
    "    21120126_Nguyễn Tấn Hoàng Sa"
   ]
  },
  {
   "cell_type": "code",
   "execution_count": 78,
   "id": "a67d3d18",
   "metadata": {},
   "outputs": [],
   "source": [
    "import numpy as np\n",
    "import selenium\n",
    "from selenium import webdriver\n",
    "from time import sleep\n",
    "import random\n",
    "from selenium.webdriver.common.keys import Keys\n",
    "from selenium.common.exceptions import NoSuchElementException, ElementNotInteractableException\n",
    "from selenium.webdriver.common.by import By\n",
    "import pandas as pd\n",
    "import os"
   ]
  },
  {
   "cell_type": "markdown",
   "id": "d1609d16",
   "metadata": {},
   "source": [
    "2.1.1 Thu thập dữ liệu"
   ]
  },
  {
   "cell_type": "code",
   "execution_count": 83,
   "id": "302093d2",
   "metadata": {},
   "outputs": [],
   "source": [
    "driver = selenium.webdriver.Chrome()\n",
    "base_url = \"https://ourworldindata.org/explorers/energy?\""
   ]
  },
  {
   "cell_type": "code",
   "execution_count": 84,
   "id": "b20350a1",
   "metadata": {},
   "outputs": [],
   "source": [
    "def crawl_data(year, type):\n",
    "    url = base_url+'tab=table&time={y}&facet=none&country=USA~GBR~CHN~OWID_WRL~IND~BRA~ZAF&hideControls=false&Total+or+Breakdown=Select+a+source&Energy+or+Electricity=Primary+energy&Metric=Annual+consumption&Select+a+source={t}'.format(y = year, t = type)\n",
    "    driver.get(url)\n",
    "    sleep(random.randint(5,10))\n",
    "\n",
    "    elems_coutry = driver.find_elements(By.CSS_SELECTOR, \".entity\")\n",
    "    country = [elem.text for elem in elems_coutry]\n",
    "\n",
    "    data =[]\n",
    "    data.append(0)\n",
    "    nam = []\n",
    "    for i in range (1,len(country)+1):\n",
    "        nam.append(int(year))\n",
    "        try:\n",
    "            elem_data = driver.find_element(\"xpath\", \"/html/body/main/div/div[3]/div/div[4]/div/div[2]/table/tbody/tr[{}]/td[2]\".format(i))\n",
    "            data.append(elem_data.text)\n",
    "        except NoSuchElementException:\n",
    "            data.append(None)\n",
    "\n",
    "    df = pd.DataFrame(list(zip(country,nam,data)),columns= ['Country','Year',type])\n",
    "    df = df = df.drop([0], axis=0)\n",
    "    df = df.drop(labels=df.index[-24:])\n",
    "    return df"
   ]
  },
  {
   "cell_type": "code",
   "execution_count": 85,
   "id": "51daadff",
   "metadata": {},
   "outputs": [],
   "source": [
    "def crawl_type_data(type):\n",
    "    df = pd.DataFrame(columns= ['Country','Year',type])\n",
    "    for i in range(2000,2023):\n",
    "        df1 = crawl_data(i, type)\n",
    "        df = pd.merge(df, df1 ,how='outer',on=['Country','Year',type])\n",
    "    return df"
   ]
  },
  {
   "cell_type": "code",
   "execution_count": 86,
   "id": "3d6902a3",
   "metadata": {},
   "outputs": [],
   "source": [
    "\n",
    "def crawl_full_data(types):\n",
    "    df = pd.DataFrame(columns= ['Country','Year'])\n",
    "    for type in types:\n",
    "        df1 = crawl_type_data(type)\n",
    "        df = pd.merge(df, df1 ,how='outer',on=['Country','Year'])\n",
    "    return df"
   ]
  },
  {
   "cell_type": "code",
   "execution_count": 87,
   "id": "76dfe70b",
   "metadata": {},
   "outputs": [
    {
     "ename": "NoSuchWindowException",
     "evalue": "Message: no such window: target window already closed\nfrom unknown error: web view not found\n  (Session info: chrome=119.0.6045.200)\nStacktrace:\n\tGetHandleVerifier [0x00007FF7097F82B2+55298]\n\t(No symbol) [0x00007FF709765E02]\n\t(No symbol) [0x00007FF7096205AB]\n\t(No symbol) [0x00007FF709600038]\n\t(No symbol) [0x00007FF709686BC7]\n\t(No symbol) [0x00007FF70969A15F]\n\t(No symbol) [0x00007FF709681E83]\n\t(No symbol) [0x00007FF70965670A]\n\t(No symbol) [0x00007FF709657964]\n\tGetHandleVerifier [0x00007FF709B70AAB+3694587]\n\tGetHandleVerifier [0x00007FF709BC728E+4048862]\n\tGetHandleVerifier [0x00007FF709BBF173+4015811]\n\tGetHandleVerifier [0x00007FF7098947D6+695590]\n\t(No symbol) [0x00007FF709770CE8]\n\t(No symbol) [0x00007FF70976CF34]\n\t(No symbol) [0x00007FF70976D062]\n\t(No symbol) [0x00007FF70975D3A3]\n\tBaseThreadInitThunk [0x00007FFBDA03257D+29]\n\tRtlUserThreadStart [0x00007FFBDA7CAA58+40]\n",
     "output_type": "error",
     "traceback": [
      "\u001b[1;31m---------------------------------------------------------------------------\u001b[0m",
      "\u001b[1;31mNoSuchWindowException\u001b[0m                     Traceback (most recent call last)",
      "\u001b[1;32mc:\\Users\\phanv\\OneDrive - VNU-HCMUS\\Documents\\GitHub\\DoAnKHDL\\ThuThapDuLieu\\thu_thap_du_lieu.ipynb Cell 8\u001b[0m line \u001b[0;36m2\n\u001b[0;32m      <a href='vscode-notebook-cell:/c%3A/Users/phanv/OneDrive%20-%20VNU-HCMUS/Documents/GitHub/DoAnKHDL/ThuThapDuLieu/thu_thap_du_lieu.ipynb#X10sZmlsZQ%3D%3D?line=0'>1</a>\u001b[0m types \u001b[39m=\u001b[39m [\u001b[39m'\u001b[39m\u001b[39mFossil fuels\u001b[39m\u001b[39m'\u001b[39m,\u001b[39m'\u001b[39m\u001b[39mGas\u001b[39m\u001b[39m'\u001b[39m,\u001b[39m'\u001b[39m\u001b[39mCoal\u001b[39m\u001b[39m'\u001b[39m,\u001b[39m'\u001b[39m\u001b[39mOil\u001b[39m\u001b[39m'\u001b[39m,\u001b[39m'\u001b[39m\u001b[39mSolar\u001b[39m\u001b[39m'\u001b[39m,\u001b[39m'\u001b[39m\u001b[39mWind\u001b[39m\u001b[39m'\u001b[39m,\u001b[39m'\u001b[39m\u001b[39mRenewables\u001b[39m\u001b[39m'\u001b[39m,\u001b[39m'\u001b[39m\u001b[39mHydropower\u001b[39m\u001b[39m'\u001b[39m]\n\u001b[1;32m----> <a href='vscode-notebook-cell:/c%3A/Users/phanv/OneDrive%20-%20VNU-HCMUS/Documents/GitHub/DoAnKHDL/ThuThapDuLieu/thu_thap_du_lieu.ipynb#X10sZmlsZQ%3D%3D?line=1'>2</a>\u001b[0m df \u001b[39m=\u001b[39m crawl_full_data(types)\n\u001b[0;32m      <a href='vscode-notebook-cell:/c%3A/Users/phanv/OneDrive%20-%20VNU-HCMUS/Documents/GitHub/DoAnKHDL/ThuThapDuLieu/thu_thap_du_lieu.ipynb#X10sZmlsZQ%3D%3D?line=2'>3</a>\u001b[0m df \u001b[39m=\u001b[39m df\u001b[39m.\u001b[39mset_index(\u001b[39m\"\u001b[39m\u001b[39mCountry\u001b[39m\u001b[39m\"\u001b[39m)\n\u001b[0;32m      <a href='vscode-notebook-cell:/c%3A/Users/phanv/OneDrive%20-%20VNU-HCMUS/Documents/GitHub/DoAnKHDL/ThuThapDuLieu/thu_thap_du_lieu.ipynb#X10sZmlsZQ%3D%3D?line=3'>4</a>\u001b[0m folder_data \u001b[39m=\u001b[39m \u001b[39m\"\u001b[39m\u001b[39m../Data/\u001b[39m\u001b[39m\"\u001b[39m\n",
      "\u001b[1;32mc:\\Users\\phanv\\OneDrive - VNU-HCMUS\\Documents\\GitHub\\DoAnKHDL\\ThuThapDuLieu\\thu_thap_du_lieu.ipynb Cell 8\u001b[0m line \u001b[0;36m4\n\u001b[0;32m      <a href='vscode-notebook-cell:/c%3A/Users/phanv/OneDrive%20-%20VNU-HCMUS/Documents/GitHub/DoAnKHDL/ThuThapDuLieu/thu_thap_du_lieu.ipynb#X10sZmlsZQ%3D%3D?line=1'>2</a>\u001b[0m df \u001b[39m=\u001b[39m pd\u001b[39m.\u001b[39mDataFrame(columns\u001b[39m=\u001b[39m [\u001b[39m'\u001b[39m\u001b[39mCountry\u001b[39m\u001b[39m'\u001b[39m,\u001b[39m'\u001b[39m\u001b[39mYear\u001b[39m\u001b[39m'\u001b[39m])\n\u001b[0;32m      <a href='vscode-notebook-cell:/c%3A/Users/phanv/OneDrive%20-%20VNU-HCMUS/Documents/GitHub/DoAnKHDL/ThuThapDuLieu/thu_thap_du_lieu.ipynb#X10sZmlsZQ%3D%3D?line=2'>3</a>\u001b[0m \u001b[39mfor\u001b[39;00m \u001b[39mtype\u001b[39m \u001b[39min\u001b[39;00m types:\n\u001b[1;32m----> <a href='vscode-notebook-cell:/c%3A/Users/phanv/OneDrive%20-%20VNU-HCMUS/Documents/GitHub/DoAnKHDL/ThuThapDuLieu/thu_thap_du_lieu.ipynb#X10sZmlsZQ%3D%3D?line=3'>4</a>\u001b[0m     df1 \u001b[39m=\u001b[39m crawl_type_data(\u001b[39mtype\u001b[39;49m)\n\u001b[0;32m      <a href='vscode-notebook-cell:/c%3A/Users/phanv/OneDrive%20-%20VNU-HCMUS/Documents/GitHub/DoAnKHDL/ThuThapDuLieu/thu_thap_du_lieu.ipynb#X10sZmlsZQ%3D%3D?line=4'>5</a>\u001b[0m     df \u001b[39m=\u001b[39m pd\u001b[39m.\u001b[39mmerge(df, df1 ,how\u001b[39m=\u001b[39m\u001b[39m'\u001b[39m\u001b[39mouter\u001b[39m\u001b[39m'\u001b[39m,on\u001b[39m=\u001b[39m[\u001b[39m'\u001b[39m\u001b[39mCountry\u001b[39m\u001b[39m'\u001b[39m,\u001b[39m'\u001b[39m\u001b[39mYear\u001b[39m\u001b[39m'\u001b[39m])\n\u001b[0;32m      <a href='vscode-notebook-cell:/c%3A/Users/phanv/OneDrive%20-%20VNU-HCMUS/Documents/GitHub/DoAnKHDL/ThuThapDuLieu/thu_thap_du_lieu.ipynb#X10sZmlsZQ%3D%3D?line=5'>6</a>\u001b[0m \u001b[39mreturn\u001b[39;00m df\n",
      "\u001b[1;32mc:\\Users\\phanv\\OneDrive - VNU-HCMUS\\Documents\\GitHub\\DoAnKHDL\\ThuThapDuLieu\\thu_thap_du_lieu.ipynb Cell 8\u001b[0m line \u001b[0;36m4\n\u001b[0;32m      <a href='vscode-notebook-cell:/c%3A/Users/phanv/OneDrive%20-%20VNU-HCMUS/Documents/GitHub/DoAnKHDL/ThuThapDuLieu/thu_thap_du_lieu.ipynb#X10sZmlsZQ%3D%3D?line=1'>2</a>\u001b[0m df \u001b[39m=\u001b[39m pd\u001b[39m.\u001b[39mDataFrame(columns\u001b[39m=\u001b[39m [\u001b[39m'\u001b[39m\u001b[39mCountry\u001b[39m\u001b[39m'\u001b[39m,\u001b[39m'\u001b[39m\u001b[39mYear\u001b[39m\u001b[39m'\u001b[39m,\u001b[39mtype\u001b[39m])\n\u001b[0;32m      <a href='vscode-notebook-cell:/c%3A/Users/phanv/OneDrive%20-%20VNU-HCMUS/Documents/GitHub/DoAnKHDL/ThuThapDuLieu/thu_thap_du_lieu.ipynb#X10sZmlsZQ%3D%3D?line=2'>3</a>\u001b[0m \u001b[39mfor\u001b[39;00m i \u001b[39min\u001b[39;00m \u001b[39mrange\u001b[39m(\u001b[39m2000\u001b[39m,\u001b[39m2023\u001b[39m):\n\u001b[1;32m----> <a href='vscode-notebook-cell:/c%3A/Users/phanv/OneDrive%20-%20VNU-HCMUS/Documents/GitHub/DoAnKHDL/ThuThapDuLieu/thu_thap_du_lieu.ipynb#X10sZmlsZQ%3D%3D?line=3'>4</a>\u001b[0m     df1 \u001b[39m=\u001b[39m crawl_data(i, \u001b[39mtype\u001b[39;49m)\n\u001b[0;32m      <a href='vscode-notebook-cell:/c%3A/Users/phanv/OneDrive%20-%20VNU-HCMUS/Documents/GitHub/DoAnKHDL/ThuThapDuLieu/thu_thap_du_lieu.ipynb#X10sZmlsZQ%3D%3D?line=4'>5</a>\u001b[0m     df \u001b[39m=\u001b[39m pd\u001b[39m.\u001b[39mmerge(df, df1 ,how\u001b[39m=\u001b[39m\u001b[39m'\u001b[39m\u001b[39mouter\u001b[39m\u001b[39m'\u001b[39m,on\u001b[39m=\u001b[39m[\u001b[39m'\u001b[39m\u001b[39mCountry\u001b[39m\u001b[39m'\u001b[39m,\u001b[39m'\u001b[39m\u001b[39mYear\u001b[39m\u001b[39m'\u001b[39m,\u001b[39mtype\u001b[39m])\n\u001b[0;32m      <a href='vscode-notebook-cell:/c%3A/Users/phanv/OneDrive%20-%20VNU-HCMUS/Documents/GitHub/DoAnKHDL/ThuThapDuLieu/thu_thap_du_lieu.ipynb#X10sZmlsZQ%3D%3D?line=5'>6</a>\u001b[0m \u001b[39mreturn\u001b[39;00m df\n",
      "\u001b[1;32mc:\\Users\\phanv\\OneDrive - VNU-HCMUS\\Documents\\GitHub\\DoAnKHDL\\ThuThapDuLieu\\thu_thap_du_lieu.ipynb Cell 8\u001b[0m line \u001b[0;36m3\n\u001b[0;32m      <a href='vscode-notebook-cell:/c%3A/Users/phanv/OneDrive%20-%20VNU-HCMUS/Documents/GitHub/DoAnKHDL/ThuThapDuLieu/thu_thap_du_lieu.ipynb#X10sZmlsZQ%3D%3D?line=0'>1</a>\u001b[0m \u001b[39mdef\u001b[39;00m \u001b[39mcrawl_data\u001b[39m(year, \u001b[39mtype\u001b[39m):\n\u001b[0;32m      <a href='vscode-notebook-cell:/c%3A/Users/phanv/OneDrive%20-%20VNU-HCMUS/Documents/GitHub/DoAnKHDL/ThuThapDuLieu/thu_thap_du_lieu.ipynb#X10sZmlsZQ%3D%3D?line=1'>2</a>\u001b[0m     url \u001b[39m=\u001b[39m base_url\u001b[39m+\u001b[39m\u001b[39m'\u001b[39m\u001b[39mtab=table&time=\u001b[39m\u001b[39m{y}\u001b[39;00m\u001b[39m&facet=none&country=USA~GBR~CHN~OWID_WRL~IND~BRA~ZAF&hideControls=false&Total+or+Breakdown=Select+a+source&Energy+or+Electricity=Primary+energy&Metric=Annual+consumption&Select+a+source=\u001b[39m\u001b[39m{t}\u001b[39;00m\u001b[39m'\u001b[39m\u001b[39m.\u001b[39mformat(y \u001b[39m=\u001b[39m year, t \u001b[39m=\u001b[39m \u001b[39mtype\u001b[39m)\n\u001b[1;32m----> <a href='vscode-notebook-cell:/c%3A/Users/phanv/OneDrive%20-%20VNU-HCMUS/Documents/GitHub/DoAnKHDL/ThuThapDuLieu/thu_thap_du_lieu.ipynb#X10sZmlsZQ%3D%3D?line=2'>3</a>\u001b[0m     driver\u001b[39m.\u001b[39;49mget(url)\n\u001b[0;32m      <a href='vscode-notebook-cell:/c%3A/Users/phanv/OneDrive%20-%20VNU-HCMUS/Documents/GitHub/DoAnKHDL/ThuThapDuLieu/thu_thap_du_lieu.ipynb#X10sZmlsZQ%3D%3D?line=3'>4</a>\u001b[0m     sleep(random\u001b[39m.\u001b[39mrandint(\u001b[39m5\u001b[39m,\u001b[39m10\u001b[39m))\n\u001b[0;32m      <a href='vscode-notebook-cell:/c%3A/Users/phanv/OneDrive%20-%20VNU-HCMUS/Documents/GitHub/DoAnKHDL/ThuThapDuLieu/thu_thap_du_lieu.ipynb#X10sZmlsZQ%3D%3D?line=5'>6</a>\u001b[0m     elems_coutry \u001b[39m=\u001b[39m driver\u001b[39m.\u001b[39mfind_elements(By\u001b[39m.\u001b[39mCSS_SELECTOR, \u001b[39m\"\u001b[39m\u001b[39m.entity\u001b[39m\u001b[39m\"\u001b[39m)\n",
      "File \u001b[1;32m~\\AppData\\Local\\Packages\\PythonSoftwareFoundation.Python.3.11_qbz5n2kfra8p0\\LocalCache\\local-packages\\Python311\\site-packages\\selenium\\webdriver\\remote\\webdriver.py:356\u001b[0m, in \u001b[0;36mWebDriver.get\u001b[1;34m(self, url)\u001b[0m\n\u001b[0;32m    354\u001b[0m \u001b[39mdef\u001b[39;00m \u001b[39mget\u001b[39m(\u001b[39mself\u001b[39m, url: \u001b[39mstr\u001b[39m) \u001b[39m-\u001b[39m\u001b[39m>\u001b[39m \u001b[39mNone\u001b[39;00m:\n\u001b[0;32m    355\u001b[0m \u001b[39m    \u001b[39m\u001b[39m\"\"\"Loads a web page in the current browser session.\"\"\"\u001b[39;00m\n\u001b[1;32m--> 356\u001b[0m     \u001b[39mself\u001b[39;49m\u001b[39m.\u001b[39;49mexecute(Command\u001b[39m.\u001b[39;49mGET, {\u001b[39m\"\u001b[39;49m\u001b[39murl\u001b[39;49m\u001b[39m\"\u001b[39;49m: url})\n",
      "File \u001b[1;32m~\\AppData\\Local\\Packages\\PythonSoftwareFoundation.Python.3.11_qbz5n2kfra8p0\\LocalCache\\local-packages\\Python311\\site-packages\\selenium\\webdriver\\remote\\webdriver.py:347\u001b[0m, in \u001b[0;36mWebDriver.execute\u001b[1;34m(self, driver_command, params)\u001b[0m\n\u001b[0;32m    345\u001b[0m response \u001b[39m=\u001b[39m \u001b[39mself\u001b[39m\u001b[39m.\u001b[39mcommand_executor\u001b[39m.\u001b[39mexecute(driver_command, params)\n\u001b[0;32m    346\u001b[0m \u001b[39mif\u001b[39;00m response:\n\u001b[1;32m--> 347\u001b[0m     \u001b[39mself\u001b[39;49m\u001b[39m.\u001b[39;49merror_handler\u001b[39m.\u001b[39;49mcheck_response(response)\n\u001b[0;32m    348\u001b[0m     response[\u001b[39m\"\u001b[39m\u001b[39mvalue\u001b[39m\u001b[39m\"\u001b[39m] \u001b[39m=\u001b[39m \u001b[39mself\u001b[39m\u001b[39m.\u001b[39m_unwrap_value(response\u001b[39m.\u001b[39mget(\u001b[39m\"\u001b[39m\u001b[39mvalue\u001b[39m\u001b[39m\"\u001b[39m, \u001b[39mNone\u001b[39;00m))\n\u001b[0;32m    349\u001b[0m     \u001b[39mreturn\u001b[39;00m response\n",
      "File \u001b[1;32m~\\AppData\\Local\\Packages\\PythonSoftwareFoundation.Python.3.11_qbz5n2kfra8p0\\LocalCache\\local-packages\\Python311\\site-packages\\selenium\\webdriver\\remote\\errorhandler.py:229\u001b[0m, in \u001b[0;36mErrorHandler.check_response\u001b[1;34m(self, response)\u001b[0m\n\u001b[0;32m    227\u001b[0m         alert_text \u001b[39m=\u001b[39m value[\u001b[39m\"\u001b[39m\u001b[39malert\u001b[39m\u001b[39m\"\u001b[39m]\u001b[39m.\u001b[39mget(\u001b[39m\"\u001b[39m\u001b[39mtext\u001b[39m\u001b[39m\"\u001b[39m)\n\u001b[0;32m    228\u001b[0m     \u001b[39mraise\u001b[39;00m exception_class(message, screen, stacktrace, alert_text)  \u001b[39m# type: ignore[call-arg]  # mypy is not smart enough here\u001b[39;00m\n\u001b[1;32m--> 229\u001b[0m \u001b[39mraise\u001b[39;00m exception_class(message, screen, stacktrace)\n",
      "\u001b[1;31mNoSuchWindowException\u001b[0m: Message: no such window: target window already closed\nfrom unknown error: web view not found\n  (Session info: chrome=119.0.6045.200)\nStacktrace:\n\tGetHandleVerifier [0x00007FF7097F82B2+55298]\n\t(No symbol) [0x00007FF709765E02]\n\t(No symbol) [0x00007FF7096205AB]\n\t(No symbol) [0x00007FF709600038]\n\t(No symbol) [0x00007FF709686BC7]\n\t(No symbol) [0x00007FF70969A15F]\n\t(No symbol) [0x00007FF709681E83]\n\t(No symbol) [0x00007FF70965670A]\n\t(No symbol) [0x00007FF709657964]\n\tGetHandleVerifier [0x00007FF709B70AAB+3694587]\n\tGetHandleVerifier [0x00007FF709BC728E+4048862]\n\tGetHandleVerifier [0x00007FF709BBF173+4015811]\n\tGetHandleVerifier [0x00007FF7098947D6+695590]\n\t(No symbol) [0x00007FF709770CE8]\n\t(No symbol) [0x00007FF70976CF34]\n\t(No symbol) [0x00007FF70976D062]\n\t(No symbol) [0x00007FF70975D3A3]\n\tBaseThreadInitThunk [0x00007FFBDA03257D+29]\n\tRtlUserThreadStart [0x00007FFBDA7CAA58+40]\n"
     ]
    }
   ],
   "source": [
    "\n",
    "types = ['Fossil fuels','Gas','Coal','Oil','Solar','Wind','Renewables','Hydropower']\n",
    "df = crawl_full_data(types)\n",
    "df = df.set_index(\"Country\")\n",
    "folder_data = \"../Data/\"\n",
    "pathData = os.path.join(folder_data, \"data.csv\")\n",
    "df.to_csv(pathData)"
   ]
  },
  {
   "cell_type": "markdown",
   "id": "168c558f",
   "metadata": {},
   "source": [
    "2.1.2 Khám phá dữ liệu"
   ]
  },
  {
   "cell_type": "code",
   "execution_count": null,
   "id": "5bd95753",
   "metadata": {},
   "outputs": [
    {
     "name": "stdout",
     "output_type": "stream",
     "text": [
      "Shape: (1840, 10)\n"
     ]
    },
    {
     "data": {
      "text/html": [
       "<div>\n",
       "<style scoped>\n",
       "    .dataframe tbody tr th:only-of-type {\n",
       "        vertical-align: middle;\n",
       "    }\n",
       "\n",
       "    .dataframe tbody tr th {\n",
       "        vertical-align: top;\n",
       "    }\n",
       "\n",
       "    .dataframe thead th {\n",
       "        text-align: right;\n",
       "    }\n",
       "</style>\n",
       "<table border=\"1\" class=\"dataframe\">\n",
       "  <thead>\n",
       "    <tr style=\"text-align: right;\">\n",
       "      <th></th>\n",
       "      <th>Country</th>\n",
       "      <th>Year</th>\n",
       "      <th>Fossil fuels</th>\n",
       "      <th>Gas</th>\n",
       "      <th>Coal</th>\n",
       "      <th>Oil</th>\n",
       "      <th>Solar</th>\n",
       "      <th>Wind</th>\n",
       "      <th>Renewables</th>\n",
       "      <th>Hydropower</th>\n",
       "    </tr>\n",
       "  </thead>\n",
       "  <tbody>\n",
       "    <tr>\n",
       "      <th>0</th>\n",
       "      <td>Algeria</td>\n",
       "      <td>2000</td>\n",
       "      <td>9,741 kWh</td>\n",
       "      <td>6,207 kWh</td>\n",
       "      <td>183 kWh</td>\n",
       "      <td>3,351 kWh</td>\n",
       "      <td>0 kWh</td>\n",
       "      <td>0 kWh</td>\n",
       "      <td>5 kWh</td>\n",
       "      <td>5 kWh</td>\n",
       "    </tr>\n",
       "    <tr>\n",
       "      <th>1</th>\n",
       "      <td>Argentina</td>\n",
       "      <td>2000</td>\n",
       "      <td>16,062 kWh</td>\n",
       "      <td>8,712 kWh</td>\n",
       "      <td>203 kWh</td>\n",
       "      <td>7,147 kWh</td>\n",
       "      <td>0 kWh</td>\n",
       "      <td>3 kWh</td>\n",
       "      <td>2,315 kWh</td>\n",
       "      <td>2,279 kWh</td>\n",
       "    </tr>\n",
       "    <tr>\n",
       "      <th>2</th>\n",
       "      <td>Australia</td>\n",
       "      <td>2000</td>\n",
       "      <td>65,895 kWh</td>\n",
       "      <td>10,808 kWh</td>\n",
       "      <td>31,111 kWh</td>\n",
       "      <td>23,976 kWh</td>\n",
       "      <td>7 kWh</td>\n",
       "      <td>21 kWh</td>\n",
       "      <td>2,738 kWh</td>\n",
       "      <td>2,560 kWh</td>\n",
       "    </tr>\n",
       "    <tr>\n",
       "      <th>3</th>\n",
       "      <td>Austria</td>\n",
       "      <td>2000</td>\n",
       "      <td>32,760 kWh</td>\n",
       "      <td>9,763 kWh</td>\n",
       "      <td>5,302 kWh</td>\n",
       "      <td>17,696 kWh</td>\n",
       "      <td>1 kWh</td>\n",
       "      <td>25 kWh</td>\n",
       "      <td>16,103 kWh</td>\n",
       "      <td>15,443 kWh</td>\n",
       "    </tr>\n",
       "    <tr>\n",
       "      <th>4</th>\n",
       "      <td>Azerbaijan</td>\n",
       "      <td>2000</td>\n",
       "      <td>15,569 kWh</td>\n",
       "      <td>6,450 kWh</td>\n",
       "      <td>0 kWh</td>\n",
       "      <td>9,119 kWh</td>\n",
       "      <td>0 kWh</td>\n",
       "      <td>0 kWh</td>\n",
       "      <td>554 kWh</td>\n",
       "      <td>554 kWh</td>\n",
       "    </tr>\n",
       "    <tr>\n",
       "      <th>5</th>\n",
       "      <td>Bangladesh</td>\n",
       "      <td>2000</td>\n",
       "      <td>1,036 kWh</td>\n",
       "      <td>701 kWh</td>\n",
       "      <td>30 kWh</td>\n",
       "      <td>306 kWh</td>\n",
       "      <td>0 kWh</td>\n",
       "      <td>0 kWh</td>\n",
       "      <td>17 kWh</td>\n",
       "      <td>17 kWh</td>\n",
       "    </tr>\n",
       "    <tr>\n",
       "      <th>6</th>\n",
       "      <td>Belarus</td>\n",
       "      <td>2000</td>\n",
       "      <td>24,860 kWh</td>\n",
       "      <td>14,814 kWh</td>\n",
       "      <td>1,128 kWh</td>\n",
       "      <td>8,919 kWh</td>\n",
       "      <td>0 kWh</td>\n",
       "      <td>0 kWh</td>\n",
       "      <td>8 kWh</td>\n",
       "      <td>8 kWh</td>\n",
       "    </tr>\n",
       "    <tr>\n",
       "      <th>7</th>\n",
       "      <td>Belgium</td>\n",
       "      <td>2000</td>\n",
       "      <td>58,794 kWh</td>\n",
       "      <td>15,126 kWh</td>\n",
       "      <td>8,640 kWh</td>\n",
       "      <td>35,028 kWh</td>\n",
       "      <td>0 kWh</td>\n",
       "      <td>5 kWh</td>\n",
       "      <td>314 kWh</td>\n",
       "      <td>133 kWh</td>\n",
       "    </tr>\n",
       "    <tr>\n",
       "      <th>8</th>\n",
       "      <td>Brazil</td>\n",
       "      <td>2000</td>\n",
       "      <td>7,615 kWh</td>\n",
       "      <td>552 kWh</td>\n",
       "      <td>860 kWh</td>\n",
       "      <td>6,204 kWh</td>\n",
       "      <td>0 kWh</td>\n",
       "      <td>0 kWh</td>\n",
       "      <td>5,688 kWh</td>\n",
       "      <td>5,118 kWh</td>\n",
       "    </tr>\n",
       "    <tr>\n",
       "      <th>9</th>\n",
       "      <td>Bulgaria</td>\n",
       "      <td>2000</td>\n",
       "      <td>19,514 kWh</td>\n",
       "      <td>4,207 kWh</td>\n",
       "      <td>9,039 kWh</td>\n",
       "      <td>6,268 kWh</td>\n",
       "      <td>0 kWh</td>\n",
       "      <td>0 kWh</td>\n",
       "      <td>976 kWh</td>\n",
       "      <td>976 kWh</td>\n",
       "    </tr>\n",
       "  </tbody>\n",
       "</table>\n",
       "</div>"
      ],
      "text/plain": [
       "      Country  Year Fossil fuels         Gas        Coal         Oil  Solar  \\\n",
       "0     Algeria  2000    9,741 kWh   6,207 kWh     183 kWh   3,351 kWh  0 kWh   \n",
       "1   Argentina  2000   16,062 kWh   8,712 kWh     203 kWh   7,147 kWh  0 kWh   \n",
       "2   Australia  2000   65,895 kWh  10,808 kWh  31,111 kWh  23,976 kWh  7 kWh   \n",
       "3     Austria  2000   32,760 kWh   9,763 kWh   5,302 kWh  17,696 kWh  1 kWh   \n",
       "4  Azerbaijan  2000   15,569 kWh   6,450 kWh       0 kWh   9,119 kWh  0 kWh   \n",
       "5  Bangladesh  2000    1,036 kWh     701 kWh      30 kWh     306 kWh  0 kWh   \n",
       "6     Belarus  2000   24,860 kWh  14,814 kWh   1,128 kWh   8,919 kWh  0 kWh   \n",
       "7     Belgium  2000   58,794 kWh  15,126 kWh   8,640 kWh  35,028 kWh  0 kWh   \n",
       "8      Brazil  2000    7,615 kWh     552 kWh     860 kWh   6,204 kWh  0 kWh   \n",
       "9    Bulgaria  2000   19,514 kWh   4,207 kWh   9,039 kWh   6,268 kWh  0 kWh   \n",
       "\n",
       "     Wind  Renewables  Hydropower  \n",
       "0   0 kWh       5 kWh       5 kWh  \n",
       "1   3 kWh   2,315 kWh   2,279 kWh  \n",
       "2  21 kWh   2,738 kWh   2,560 kWh  \n",
       "3  25 kWh  16,103 kWh  15,443 kWh  \n",
       "4   0 kWh     554 kWh     554 kWh  \n",
       "5   0 kWh      17 kWh      17 kWh  \n",
       "6   0 kWh       8 kWh       8 kWh  \n",
       "7   5 kWh     314 kWh     133 kWh  \n",
       "8   0 kWh   5,688 kWh   5,118 kWh  \n",
       "9   0 kWh     976 kWh     976 kWh  "
      ]
     },
     "execution_count": 56,
     "metadata": {},
     "output_type": "execute_result"
    }
   ],
   "source": [
    "df = pd.read_csv('../Data/data.csv')\n",
    "print(f'Shape: {df.shape}')\n",
    "df.head(10)"
   ]
  },
  {
   "cell_type": "markdown",
   "id": "5dc03e04",
   "metadata": {},
   "source": []
  },
  {
   "cell_type": "code",
   "execution_count": null,
   "id": "16267470",
   "metadata": {},
   "outputs": [
    {
     "name": "stdout",
     "output_type": "stream",
     "text": [
      "                            Country  Year Fossil fuels\n",
      "0                      Country/area  2022            0\n",
      "1                           Algeria  2022      683 TWh\n",
      "2                         Argentina  2022      854 TWh\n",
      "3                         Australia  2022    1,421 TWh\n",
      "4                           Austria  2022      242 TWh\n",
      "..                              ...   ...          ...\n",
      "100                   South America  2022    1,554 TWh\n",
      "101  South and Central America (EI)  2022    4,512 TWh\n",
      "102   Upper-middle-income countries  2022    5,383 TWh\n",
      "103             Western Africa (EI)  2022   57,188 TWh\n",
      "104                           World  2022      774 TWh\n",
      "\n",
      "[105 rows x 3 columns]\n"
     ]
    }
   ],
   "source": [
    "\n",
    "df1 = crawl_data(2022, 'Fossil fuels')\n",
    "print(df1)\n"
   ]
  }
 ],
 "metadata": {
  "kernelspec": {
   "display_name": "Python 3",
   "language": "python",
   "name": "python3"
  },
  "language_info": {
   "codemirror_mode": {
    "name": "ipython",
    "version": 3
   },
   "file_extension": ".py",
   "mimetype": "text/x-python",
   "name": "python",
   "nbconvert_exporter": "python",
   "pygments_lexer": "ipython3",
   "version": "3.9.13 (main, Aug 25 2022, 18:29:29) \n[Clang 12.0.0 ]"
  },
  "vscode": {
   "interpreter": {
    "hash": "a897ecb8d91bfc7f294ab6da99f9baa00d09906c3ac640a3c63be6db9bb3112f"
   }
  }
 },
 "nbformat": 4,
 "nbformat_minor": 5
}
