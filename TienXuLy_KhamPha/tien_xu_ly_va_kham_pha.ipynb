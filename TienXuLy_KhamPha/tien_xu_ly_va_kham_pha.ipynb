{
 "cells": [
  {
   "cell_type": "markdown",
   "metadata": {},
   "source": [
    "===========================================Tiền Xử Lí Và Khám Phá Dữ Liệu================================="
   ]
  },
  {
   "cell_type": "markdown",
   "metadata": {},
   "source": [
    "1. IMPORT THƯ VIỆN"
   ]
  },
  {
   "cell_type": "code",
   "execution_count": 1,
   "metadata": {},
   "outputs": [],
   "source": [
    "\n",
    "import numpy as np\n",
    "import pandas as pd"
   ]
  },
  {
   "cell_type": "markdown",
   "metadata": {},
   "source": [
    "2. ĐỌC DỮ LIỆU KIỂM TRA VÀ KIỂM TRA SỐ DÒNG, SỐ CỘT DỮ LIỆU"
   ]
  },
  {
   "cell_type": "code",
   "execution_count": 2,
   "metadata": {},
   "outputs": [
    {
     "data": {
      "text/html": [
       "<div>\n",
       "<style scoped>\n",
       "    .dataframe tbody tr th:only-of-type {\n",
       "        vertical-align: middle;\n",
       "    }\n",
       "\n",
       "    .dataframe tbody tr th {\n",
       "        vertical-align: top;\n",
       "    }\n",
       "\n",
       "    .dataframe thead th {\n",
       "        text-align: right;\n",
       "    }\n",
       "</style>\n",
       "<table border=\"1\" class=\"dataframe\">\n",
       "  <thead>\n",
       "    <tr style=\"text-align: right;\">\n",
       "      <th></th>\n",
       "      <th>Country</th>\n",
       "      <th>Year</th>\n",
       "      <th>Fossil fuels</th>\n",
       "      <th>Gas</th>\n",
       "      <th>Coal</th>\n",
       "      <th>Oil</th>\n",
       "      <th>Solar</th>\n",
       "      <th>Wind</th>\n",
       "      <th>Renewables</th>\n",
       "      <th>Hydropower</th>\n",
       "    </tr>\n",
       "  </thead>\n",
       "  <tbody>\n",
       "    <tr>\n",
       "      <th>0</th>\n",
       "      <td>Algeria</td>\n",
       "      <td>2000</td>\n",
       "      <td>300 TWh</td>\n",
       "      <td>191.01 TWh</td>\n",
       "      <td>5.64 TWh</td>\n",
       "      <td>103.13 TWh</td>\n",
       "      <td>0 TWh</td>\n",
       "      <td>0 TWh</td>\n",
       "      <td>0 TWh</td>\n",
       "      <td>0 TWh</td>\n",
       "    </tr>\n",
       "    <tr>\n",
       "      <th>1</th>\n",
       "      <td>Argentina</td>\n",
       "      <td>2000</td>\n",
       "      <td>595 TWh</td>\n",
       "      <td>322.97 TWh</td>\n",
       "      <td>7.51 TWh</td>\n",
       "      <td>264.94 TWh</td>\n",
       "      <td>0 TWh</td>\n",
       "      <td>0 TWh</td>\n",
       "      <td>86 TWh</td>\n",
       "      <td>84 TWh</td>\n",
       "    </tr>\n",
       "    <tr>\n",
       "      <th>2</th>\n",
       "      <td>Australia</td>\n",
       "      <td>2000</td>\n",
       "      <td>1,253 TWh</td>\n",
       "      <td>205.55 TWh</td>\n",
       "      <td>591.66 TWh</td>\n",
       "      <td>455.98 TWh</td>\n",
       "      <td>0 TWh</td>\n",
       "      <td>0 TWh</td>\n",
       "      <td>52 TWh</td>\n",
       "      <td>49 TWh</td>\n",
       "    </tr>\n",
       "    <tr>\n",
       "      <th>3</th>\n",
       "      <td>Austria</td>\n",
       "      <td>2000</td>\n",
       "      <td>262 TWh</td>\n",
       "      <td>78.21 TWh</td>\n",
       "      <td>42.47 TWh</td>\n",
       "      <td>141.75 TWh</td>\n",
       "      <td>0 TWh</td>\n",
       "      <td>0 TWh</td>\n",
       "      <td>129 TWh</td>\n",
       "      <td>124 TWh</td>\n",
       "    </tr>\n",
       "    <tr>\n",
       "      <th>4</th>\n",
       "      <td>Azerbaijan</td>\n",
       "      <td>2000</td>\n",
       "      <td>128 TWh</td>\n",
       "      <td>52.83 TWh</td>\n",
       "      <td>0.00 TWh</td>\n",
       "      <td>74.69 TWh</td>\n",
       "      <td>0 TWh</td>\n",
       "      <td>0 TWh</td>\n",
       "      <td>5 TWh</td>\n",
       "      <td>5 TWh</td>\n",
       "    </tr>\n",
       "  </tbody>\n",
       "</table>\n",
       "</div>"
      ],
      "text/plain": [
       "      Country  Year Fossil fuels         Gas        Coal         Oil  Solar  \\\n",
       "0     Algeria  2000      300 TWh  191.01 TWh    5.64 TWh  103.13 TWh  0 TWh   \n",
       "1   Argentina  2000      595 TWh  322.97 TWh    7.51 TWh  264.94 TWh  0 TWh   \n",
       "2   Australia  2000    1,253 TWh  205.55 TWh  591.66 TWh  455.98 TWh  0 TWh   \n",
       "3     Austria  2000      262 TWh   78.21 TWh   42.47 TWh  141.75 TWh  0 TWh   \n",
       "4  Azerbaijan  2000      128 TWh   52.83 TWh    0.00 TWh   74.69 TWh  0 TWh   \n",
       "\n",
       "    Wind Renewables Hydropower  \n",
       "0  0 TWh      0 TWh      0 TWh  \n",
       "1  0 TWh     86 TWh     84 TWh  \n",
       "2  0 TWh     52 TWh     49 TWh  \n",
       "3  0 TWh    129 TWh    124 TWh  \n",
       "4  0 TWh      5 TWh      5 TWh  "
      ]
     },
     "execution_count": 2,
     "metadata": {},
     "output_type": "execute_result"
    }
   ],
   "source": [
    "df = pd.read_csv(\"../Data/data.csv\")\n",
    "df.head()"
   ]
  },
  {
   "cell_type": "code",
   "execution_count": 3,
   "metadata": {},
   "outputs": [
    {
     "name": "stdout",
     "output_type": "stream",
     "text": [
      "Shape: (1840, 10)\n"
     ]
    }
   ],
   "source": [
    "shape = df.shape\n",
    "print(f\"Shape: {shape}\")"
   ]
  },
  {
   "cell_type": "code",
   "execution_count": 4,
   "metadata": {},
   "outputs": [
    {
     "name": "stdout",
     "output_type": "stream",
     "text": [
      "Số dòng dữ liệu đạt yêu cầu.\n",
      "Số cột dữ liệu đạt yêu cầu.\n",
      "Dữ liệu không có dòng lặp lại.\n"
     ]
    }
   ],
   "source": [
    "#Số dòng\n",
    "if shape[0] > 1000:\n",
    "    print(f\"Số dòng dữ liệu đạt yêu cầu.\")\n",
    "else:\n",
    "    print(f\"Số dòng dữ liệu không đạt yêu cầu\")\n",
    "#Số cột\n",
    "if shape[1] >= 5:\n",
    "    print(f\"Số cột dữ liệu đạt yêu cầu.\")\n",
    "else:\n",
    "    print(f\"Số cột dữ liệu không đạt yêu cầu\")\n",
    "#Kiểm tra có dòng duplicate không\n",
    "num_duplicated_rows = df.index.duplicated().sum()\n",
    "if num_duplicated_rows == 0:\n",
    "    print(f\"Dữ liệu không có dòng lặp lại.\")\n",
    "else:\n",
    "    print(f\"Dữ liệu bạn có {num_duplicated_rows} lặp lại.\")"
   ]
  },
  {
   "cell_type": "markdown",
   "metadata": {},
   "source": [
    "3. Ý NGHĨA CỦA CÁC CỘT TRONG DATAFRAME VÀ THÔNG TIN VỀ DATAFRAME"
   ]
  },
  {
   "cell_type": "code",
   "execution_count": 5,
   "metadata": {},
   "outputs": [
    {
     "name": "stdout",
     "output_type": "stream",
     "text": [
      "<class 'pandas.core.frame.DataFrame'>\n",
      "RangeIndex: 1840 entries, 0 to 1839\n",
      "Data columns (total 10 columns):\n",
      " #   Column        Non-Null Count  Dtype \n",
      "---  ------        --------------  ----- \n",
      " 0   Country       1840 non-null   object\n",
      " 1   Year          1840 non-null   int64 \n",
      " 2   Fossil fuels  1697 non-null   object\n",
      " 3   Gas           1752 non-null   object\n",
      " 4   Coal          1762 non-null   object\n",
      " 5   Oil           1817 non-null   object\n",
      " 6   Solar         1805 non-null   object\n",
      " 7   Wind          1817 non-null   object\n",
      " 8   Renewables    1639 non-null   object\n",
      " 9   Hydropower    1639 non-null   object\n",
      "dtypes: int64(1), object(9)\n",
      "memory usage: 143.9+ KB\n"
     ]
    }
   ],
   "source": [
    "df.info()"
   ]
  },
  {
   "cell_type": "markdown",
   "metadata": {},
   "source": [
    "- Ý nghĩa về các cột trong DataFrame:\n",
    "    **Chú ý:** các đơn vị năng lượng sử dụng ở đây là TWh, vì đây là lượng năng lượng sử dụng cả một năm.\n",
    "    + Country: Tên quốc gia mà chúng ta đang đề cập đến.\n",
    "    + Year: Năm tương ứng.\n",
    "    Các cột còn lại là tổng năng lượng tiêu thụ từ các nguồn của quốc gia đó trong năm (Year), bao gồm:\n",
    "    + Fosil fuels (bao gồm cả Coal, Oil, và Gas): Năng lượng hóa thạch\n",
    "    + Gas: Năng lượng từ khí đốt\n",
    "    + Coal: Năng lượng từ than đá\n",
    "    + Oil: Năng lượng từ dầu\n",
    "    + Solar: Năng lượng mặt trời\n",
    "    + Wind: Năng lượng gió\n",
    "    + Renewables: năng lượng tái tạo\n",
    "    + Hydropower: năng lượng từ thủy điện"
   ]
  },
  {
   "cell_type": "markdown",
   "metadata": {},
   "source": [
    "- Tổng quan về dữ liệu:\n",
    "    + Dữ liệu có 1840 dòng và 9 cột.\n",
    "    + Có 1 đối tượng kiểu in64 là Year, còn lại là kiểu object\n",
    "    + Số lượng dữ liệu không phải null thể hiện như ở trên."
   ]
  },
  {
   "cell_type": "markdown",
   "metadata": {},
   "source": [
    "4. XỬ LÝ DỮ LIỆU, CHUYỂN CÁC KIỂU DỮ LIỆU CẦN THIẾT VỀ NUMERIC VÀ XEM XÉT BỎ CÁC CỘT CÓ ĐỘ MẤT MÁT DỮ LIỆU LỚN\n"
   ]
  },
  {
   "cell_type": "markdown",
   "metadata": {},
   "source": [
    "        4.1 Xử lý dữ liệu, chuyển các kiểu dữ liệu về kiểu numeric"
   ]
  },
  {
   "cell_type": "code",
   "execution_count": 6,
   "metadata": {},
   "outputs": [
    {
     "name": "stdout",
     "output_type": "stream",
     "text": [
      "<class 'pandas.core.frame.DataFrame'>\n",
      "RangeIndex: 1840 entries, 0 to 1839\n",
      "Data columns (total 10 columns):\n",
      " #   Column              Non-Null Count  Dtype  \n",
      "---  ------              --------------  -----  \n",
      " 0   Country             1840 non-null   object \n",
      " 1   Year                1840 non-null   int64  \n",
      " 2   Fossil fuels (TWh)  1697 non-null   float64\n",
      " 3   Gas (TWh)           1752 non-null   float64\n",
      " 4   Coal (TWh)          1762 non-null   float64\n",
      " 5   Oil (TWh)           1817 non-null   float64\n",
      " 6   Solar (TWh)         1805 non-null   float64\n",
      " 7   Wind (TWh)          1817 non-null   float64\n",
      " 8   Renewables (TWh)    1639 non-null   float64\n",
      " 9   Hydropower (TWh)    1639 non-null   float64\n",
      "dtypes: float64(8), int64(1), object(1)\n",
      "memory usage: 143.9+ KB\n"
     ]
    }
   ],
   "source": [
    "#Chuyển các dữ liệu về kiểu số.\n",
    "convert_columns=df.columns[2:]#Bỏ ra cột tên nước và năm đi\n",
    "for col in convert_columns:\n",
    "    df[col] = pd.to_numeric(df[col].str.replace(' TWh', '').str.replace(',', ''),errors='coerce')\n",
    "#Thêm đơn vị vào tên cột\n",
    "df = df.add_suffix(\" (TWh)\")\n",
    "df.rename(columns = {'Country (TWh)':'Country', 'Year (TWh)':'Year'}, inplace = True) \n",
    "df.info()"
   ]
  },
  {
   "cell_type": "markdown",
   "metadata": {},
   "source": [
    "- Sau khi thực hiện như trên ta thấy các dữ liệu các dữ liệu năng lượng đều chuyển về kiểu float64."
   ]
  },
  {
   "cell_type": "markdown",
   "metadata": {},
   "source": [
    "        4.2 Tìm kiếm các cột dữ liệu bị mất quá nhiều."
   ]
  },
  {
   "cell_type": "code",
   "execution_count": 7,
   "metadata": {},
   "outputs": [
    {
     "data": {
      "text/html": [
       "<div>\n",
       "<style scoped>\n",
       "    .dataframe tbody tr th:only-of-type {\n",
       "        vertical-align: middle;\n",
       "    }\n",
       "\n",
       "    .dataframe tbody tr th {\n",
       "        vertical-align: top;\n",
       "    }\n",
       "\n",
       "    .dataframe thead th {\n",
       "        text-align: right;\n",
       "    }\n",
       "</style>\n",
       "<table border=\"1\" class=\"dataframe\">\n",
       "  <thead>\n",
       "    <tr style=\"text-align: right;\">\n",
       "      <th></th>\n",
       "      <th>Year</th>\n",
       "      <th>Fossil fuels (TWh)</th>\n",
       "      <th>Gas (TWh)</th>\n",
       "      <th>Coal (TWh)</th>\n",
       "      <th>Oil (TWh)</th>\n",
       "      <th>Solar (TWh)</th>\n",
       "      <th>Wind (TWh)</th>\n",
       "      <th>Renewables (TWh)</th>\n",
       "      <th>Hydropower (TWh)</th>\n",
       "    </tr>\n",
       "  </thead>\n",
       "  <tbody>\n",
       "    <tr>\n",
       "      <th>missing_ratio</th>\n",
       "      <td>0.0</td>\n",
       "      <td>7.8</td>\n",
       "      <td>4.8</td>\n",
       "      <td>4.2</td>\n",
       "      <td>1.2</td>\n",
       "      <td>1.9</td>\n",
       "      <td>1.2</td>\n",
       "      <td>10.9</td>\n",
       "      <td>10.9</td>\n",
       "    </tr>\n",
       "    <tr>\n",
       "      <th>min</th>\n",
       "      <td>2000.0</td>\n",
       "      <td>12.0</td>\n",
       "      <td>0.0</td>\n",
       "      <td>0.0</td>\n",
       "      <td>7.2</td>\n",
       "      <td>0.0</td>\n",
       "      <td>0.0</td>\n",
       "      <td>0.0</td>\n",
       "      <td>0.0</td>\n",
       "    </tr>\n",
       "    <tr>\n",
       "      <th>mean</th>\n",
       "      <td>2011.0</td>\n",
       "      <td>1570.7</td>\n",
       "      <td>411.3</td>\n",
       "      <td>511.6</td>\n",
       "      <td>584.9</td>\n",
       "      <td>8.9</td>\n",
       "      <td>21.9</td>\n",
       "      <td>184.7</td>\n",
       "      <td>123.4</td>\n",
       "    </tr>\n",
       "    <tr>\n",
       "      <th>max</th>\n",
       "      <td>2022.0</td>\n",
       "      <td>36319.0</td>\n",
       "      <td>8812.1</td>\n",
       "      <td>24559.5</td>\n",
       "      <td>11214.1</td>\n",
       "      <td>1115.0</td>\n",
       "      <td>1988.0</td>\n",
       "      <td>7093.0</td>\n",
       "      <td>3471.0</td>\n",
       "    </tr>\n",
       "  </tbody>\n",
       "</table>\n",
       "</div>"
      ],
      "text/plain": [
       "                 Year  Fossil fuels (TWh)  Gas (TWh)  Coal (TWh)  Oil (TWh)  \\\n",
       "missing_ratio     0.0                 7.8        4.8         4.2        1.2   \n",
       "min            2000.0                12.0        0.0         0.0        7.2   \n",
       "mean           2011.0              1570.7      411.3       511.6      584.9   \n",
       "max            2022.0             36319.0     8812.1     24559.5    11214.1   \n",
       "\n",
       "               Solar (TWh)  Wind (TWh)  Renewables (TWh)  Hydropower (TWh)  \n",
       "missing_ratio          1.9         1.2              10.9              10.9  \n",
       "min                    0.0         0.0               0.0               0.0  \n",
       "mean                   8.9        21.9             184.7             123.4  \n",
       "max                 1115.0      1988.0            7093.0            3471.0  "
      ]
     },
     "execution_count": 7,
     "metadata": {},
     "output_type": "execute_result"
    }
   ],
   "source": [
    "#Tính toán giá trị phần trăm mà dữ liệu bị mất và hiển thị thêm thông tin về giá trị lớn nhất và nhỏ nhất.\n",
    "raw_df = df.select_dtypes(exclude=['object']) # chỉ lấy kiểu numeric, không lấy kiểu object,str\n",
    "def missing_ratio(raw_df):\n",
    "    return raw_df.isna().mean() * 100\n",
    "num_col_info_df = raw_df.agg([missing_ratio, \"min\", \"mean\", \"max\"]).round(1)\n",
    "num_col_info_df"
   ]
  },
  {
   "cell_type": "markdown",
   "metadata": {},
   "source": [
    "- Ở bảng trên ta thấy dòng đầu tiên là tỉ lệ phần trăm dữ liệu bị mất, tiếp theo là các dòng giá trị nhỏ nhất, trung bình và lớn nhất của tương ứng với từng cột thuộc tính.\n",
    "- Cột year ở đây không có ý nghĩa nhưng mà ta thêm vào để thấy được dữ liệu bị mất của nó là 0% chứng tỏ chúng ta đang làm đúng."
   ]
  },
  {
   "cell_type": "markdown",
   "metadata": {},
   "source": [
    "        4.3 Xử lí nếu các cột dữ liệu bị mất quá nhiều"
   ]
  },
  {
   "cell_type": "code",
   "execution_count": 8,
   "metadata": {},
   "outputs": [],
   "source": [
    "def drop_missing_features(df: pd.DataFrame, missing_lst: dict = dict(num_col_info_df.iloc[0]), threshold: float = 75.0) -> pd.DataFrame:\n",
    "    # YOUR CODE HERE\n",
    "    columns_to_drop = [col for col, missing_rate in missing_lst.items() if missing_rate >= threshold]\n",
    "\n",
    "    # Drop the columns from the DataFrame.\n",
    "    df_dropped = df.drop(columns=columns_to_drop)\n",
    "\n",
    "    return df_dropped"
   ]
  },
  {
   "cell_type": "code",
   "execution_count": 9,
   "metadata": {},
   "outputs": [
    {
     "name": "stdout",
     "output_type": "stream",
     "text": [
      "<class 'pandas.core.frame.DataFrame'>\n",
      "RangeIndex: 1840 entries, 0 to 1839\n",
      "Data columns (total 10 columns):\n",
      " #   Column              Non-Null Count  Dtype  \n",
      "---  ------              --------------  -----  \n",
      " 0   Country             1840 non-null   object \n",
      " 1   Year                1840 non-null   int64  \n",
      " 2   Fossil fuels (TWh)  1697 non-null   float64\n",
      " 3   Gas (TWh)           1752 non-null   float64\n",
      " 4   Coal (TWh)          1762 non-null   float64\n",
      " 5   Oil (TWh)           1817 non-null   float64\n",
      " 6   Solar (TWh)         1805 non-null   float64\n",
      " 7   Wind (TWh)          1817 non-null   float64\n",
      " 8   Renewables (TWh)    1639 non-null   float64\n",
      " 9   Hydropower (TWh)    1639 non-null   float64\n",
      "dtypes: float64(8), int64(1), object(1)\n",
      "memory usage: 143.9+ KB\n"
     ]
    }
   ],
   "source": [
    "#Test\n",
    "raw_df = drop_missing_features(df, num_col_info_df.iloc[0], threshold = 75.0)\n",
    "df.info()"
   ]
  },
  {
   "cell_type": "markdown",
   "metadata": {},
   "source": [
    "        4.4 Điền các giá trị thiếu bằng trung bình các giá trị của cột"
   ]
  },
  {
   "cell_type": "code",
   "execution_count": 10,
   "metadata": {},
   "outputs": [],
   "source": [
    "def filling_missing_value(df: pd.DataFrame) -> pd.DataFrame:\n",
    "    # YOUR CODE HERE\n",
    "    # Replace all None values with NaN\n",
    "    df = df.replace({None: np.nan, 0: np.nan})\n",
    "\n",
    "    # Fill NaN values with the mean of the column values\n",
    "    for i in df.columns[df.isnull().any(axis=0)]:    \n",
    "        df[i].fillna(df[i].mean().round(1),inplace=True)\n",
    "    return df"
   ]
  },
  {
   "cell_type": "code",
   "execution_count": 11,
   "metadata": {},
   "outputs": [
    {
     "name": "stdout",
     "output_type": "stream",
     "text": [
      "<class 'pandas.core.frame.DataFrame'>\n",
      "RangeIndex: 1840 entries, 0 to 1839\n",
      "Data columns (total 10 columns):\n",
      " #   Column              Non-Null Count  Dtype  \n",
      "---  ------              --------------  -----  \n",
      " 0   Country             1840 non-null   object \n",
      " 1   Year                1840 non-null   int64  \n",
      " 2   Fossil fuels (TWh)  1840 non-null   float64\n",
      " 3   Gas (TWh)           1840 non-null   float64\n",
      " 4   Coal (TWh)          1840 non-null   float64\n",
      " 5   Oil (TWh)           1840 non-null   float64\n",
      " 6   Solar (TWh)         1840 non-null   float64\n",
      " 7   Wind (TWh)          1840 non-null   float64\n",
      " 8   Renewables (TWh)    1840 non-null   float64\n",
      " 9   Hydropower (TWh)    1840 non-null   float64\n",
      "dtypes: float64(8), int64(1), object(1)\n",
      "memory usage: 143.9+ KB\n"
     ]
    }
   ],
   "source": [
    "#Test\n",
    "df = filling_missing_value(df)\n",
    "df.info()"
   ]
  },
  {
   "cell_type": "code",
   "execution_count": 12,
   "metadata": {},
   "outputs": [
    {
     "data": {
      "text/html": [
       "<div>\n",
       "<style scoped>\n",
       "    .dataframe tbody tr th:only-of-type {\n",
       "        vertical-align: middle;\n",
       "    }\n",
       "\n",
       "    .dataframe tbody tr th {\n",
       "        vertical-align: top;\n",
       "    }\n",
       "\n",
       "    .dataframe thead th {\n",
       "        text-align: right;\n",
       "    }\n",
       "</style>\n",
       "<table border=\"1\" class=\"dataframe\">\n",
       "  <thead>\n",
       "    <tr style=\"text-align: right;\">\n",
       "      <th></th>\n",
       "      <th>Country</th>\n",
       "      <th>Year</th>\n",
       "      <th>Fossil fuels (TWh)</th>\n",
       "      <th>Gas (TWh)</th>\n",
       "      <th>Coal (TWh)</th>\n",
       "      <th>Oil (TWh)</th>\n",
       "      <th>Solar (TWh)</th>\n",
       "      <th>Wind (TWh)</th>\n",
       "      <th>Renewables (TWh)</th>\n",
       "      <th>Hydropower (TWh)</th>\n",
       "    </tr>\n",
       "  </thead>\n",
       "  <tbody>\n",
       "    <tr>\n",
       "      <th>0</th>\n",
       "      <td>Algeria</td>\n",
       "      <td>2000</td>\n",
       "      <td>300.0</td>\n",
       "      <td>191.01</td>\n",
       "      <td>5.64</td>\n",
       "      <td>103.13</td>\n",
       "      <td>27.7</td>\n",
       "      <td>46.0</td>\n",
       "      <td>194.4</td>\n",
       "      <td>140.5</td>\n",
       "    </tr>\n",
       "    <tr>\n",
       "      <th>1</th>\n",
       "      <td>Argentina</td>\n",
       "      <td>2000</td>\n",
       "      <td>595.0</td>\n",
       "      <td>322.97</td>\n",
       "      <td>7.51</td>\n",
       "      <td>264.94</td>\n",
       "      <td>27.7</td>\n",
       "      <td>46.0</td>\n",
       "      <td>86.0</td>\n",
       "      <td>84.0</td>\n",
       "    </tr>\n",
       "    <tr>\n",
       "      <th>2</th>\n",
       "      <td>Australia</td>\n",
       "      <td>2000</td>\n",
       "      <td>1253.0</td>\n",
       "      <td>205.55</td>\n",
       "      <td>591.66</td>\n",
       "      <td>455.98</td>\n",
       "      <td>27.7</td>\n",
       "      <td>46.0</td>\n",
       "      <td>52.0</td>\n",
       "      <td>49.0</td>\n",
       "    </tr>\n",
       "    <tr>\n",
       "      <th>3</th>\n",
       "      <td>Austria</td>\n",
       "      <td>2000</td>\n",
       "      <td>262.0</td>\n",
       "      <td>78.21</td>\n",
       "      <td>42.47</td>\n",
       "      <td>141.75</td>\n",
       "      <td>27.7</td>\n",
       "      <td>46.0</td>\n",
       "      <td>129.0</td>\n",
       "      <td>124.0</td>\n",
       "    </tr>\n",
       "    <tr>\n",
       "      <th>4</th>\n",
       "      <td>Azerbaijan</td>\n",
       "      <td>2000</td>\n",
       "      <td>128.0</td>\n",
       "      <td>52.83</td>\n",
       "      <td>528.10</td>\n",
       "      <td>74.69</td>\n",
       "      <td>27.7</td>\n",
       "      <td>46.0</td>\n",
       "      <td>5.0</td>\n",
       "      <td>5.0</td>\n",
       "    </tr>\n",
       "  </tbody>\n",
       "</table>\n",
       "</div>"
      ],
      "text/plain": [
       "      Country  Year  Fossil fuels (TWh)  Gas (TWh)  Coal (TWh)  Oil (TWh)  \\\n",
       "0     Algeria  2000               300.0     191.01        5.64     103.13   \n",
       "1   Argentina  2000               595.0     322.97        7.51     264.94   \n",
       "2   Australia  2000              1253.0     205.55      591.66     455.98   \n",
       "3     Austria  2000               262.0      78.21       42.47     141.75   \n",
       "4  Azerbaijan  2000               128.0      52.83      528.10      74.69   \n",
       "\n",
       "   Solar (TWh)  Wind (TWh)  Renewables (TWh)  Hydropower (TWh)  \n",
       "0         27.7        46.0             194.4             140.5  \n",
       "1         27.7        46.0              86.0              84.0  \n",
       "2         27.7        46.0              52.0              49.0  \n",
       "3         27.7        46.0             129.0             124.0  \n",
       "4         27.7        46.0               5.0               5.0  "
      ]
     },
     "execution_count": 12,
     "metadata": {},
     "output_type": "execute_result"
    }
   ],
   "source": [
    "#check data\n",
    "df.head()"
   ]
  },
  {
   "cell_type": "markdown",
   "metadata": {},
   "source": [
    "5. Sự phân bổ các giá trị"
   ]
  },
  {
   "cell_type": "markdown",
   "metadata": {},
   "source": [
    "    5.1  Với các cột có kiểu dữ liệu không phải số"
   ]
  },
  {
   "cell_type": "code",
   "execution_count": 13,
   "metadata": {},
   "outputs": [],
   "source": [
    "pd.set_option('display.max_colwidth', 100) # For clearly\n",
    "pd.set_option('display.max_columns', None) # For clearly"
   ]
  },
  {
   "cell_type": "code",
   "execution_count": 14,
   "metadata": {
    "scrolled": true
   },
   "outputs": [
    {
     "data": {
      "text/html": [
       "<div>\n",
       "<style scoped>\n",
       "    .dataframe tbody tr th:only-of-type {\n",
       "        vertical-align: middle;\n",
       "    }\n",
       "\n",
       "    .dataframe tbody tr th {\n",
       "        vertical-align: top;\n",
       "    }\n",
       "\n",
       "    .dataframe thead th {\n",
       "        text-align: right;\n",
       "    }\n",
       "</style>\n",
       "<table border=\"1\" class=\"dataframe\">\n",
       "  <thead>\n",
       "    <tr style=\"text-align: right;\">\n",
       "      <th></th>\n",
       "      <th>Country</th>\n",
       "      <th>Year</th>\n",
       "    </tr>\n",
       "  </thead>\n",
       "  <tbody>\n",
       "    <tr>\n",
       "      <th>missing_ratio</th>\n",
       "      <td>0.0</td>\n",
       "      <td>0.0</td>\n",
       "    </tr>\n",
       "    <tr>\n",
       "      <th>num_values</th>\n",
       "      <td>80</td>\n",
       "      <td>23</td>\n",
       "    </tr>\n",
       "    <tr>\n",
       "      <th>value_ratios</th>\n",
       "      <td>{'Algeria': 1.2, 'Argentina': 1.2, 'Singapore': 1.2, 'Saudi Arabia': 1.2, 'Russia': 1.2, 'Romani...</td>\n",
       "      <td>{'2000': 4.3, '2012': 4.3, '2021': 4.3, '2020': 4.3, '2019': 4.3, '2018': 4.3, '2017': 4.3, '201...</td>\n",
       "    </tr>\n",
       "  </tbody>\n",
       "</table>\n",
       "</div>"
      ],
      "text/plain": [
       "                                                                                                           Country  \\\n",
       "missing_ratio                                                                                                  0.0   \n",
       "num_values                                                                                                      80   \n",
       "value_ratios   {'Algeria': 1.2, 'Argentina': 1.2, 'Singapore': 1.2, 'Saudi Arabia': 1.2, 'Russia': 1.2, 'Romani...   \n",
       "\n",
       "                                                                                                              Year  \n",
       "missing_ratio                                                                                                  0.0  \n",
       "num_values                                                                                                      23  \n",
       "value_ratios   {'2000': 4.3, '2012': 4.3, '2021': 4.3, '2020': 4.3, '2019': 4.3, '2018': 4.3, '2017': 4.3, '201...  "
      ]
     },
     "execution_count": 14,
     "metadata": {},
     "output_type": "execute_result"
    }
   ],
   "source": [
    "df[\"Year\"] = df[\"Year\"].astype(\"str\")\n",
    "cat_col_info_df = df.select_dtypes(include='object')\n",
    "\n",
    "def missing_ratio(df):\n",
    "    return (df.isna().mean() * 100).round(1)\n",
    "\n",
    "def num_values(col):\n",
    "    if col.name not in cat_col_info_df.columns:\n",
    "        return col.nunique()\n",
    "    else:\n",
    "        s = col.str.split(';').explode()\n",
    "        return s.nunique()\n",
    "    \n",
    "def value_ratios(col):\n",
    "    if col.name not in cat_col_info_df.columns:\n",
    "        return dict((col.value_counts(normalize=True)*100).round(1))\n",
    "    else:\n",
    "        s = col.str.split(';').explode()\n",
    "        s = (s.value_counts(normalize=True, ascending=False)*100).round(1)\n",
    "        return dict(s)   \n",
    "\n",
    "cat_col_info_df = cat_col_info_df.agg([missing_ratio, num_values, value_ratios])\n",
    "cat_col_info_df"
   ]
  },
  {
   "cell_type": "markdown",
   "metadata": {},
   "source": [
    "    5.2 Với các cột có kiểu dữ liệu số"
   ]
  },
  {
   "cell_type": "code",
   "execution_count": 15,
   "metadata": {},
   "outputs": [
    {
     "data": {
      "text/html": [
       "<div>\n",
       "<style scoped>\n",
       "    .dataframe tbody tr th:only-of-type {\n",
       "        vertical-align: middle;\n",
       "    }\n",
       "\n",
       "    .dataframe tbody tr th {\n",
       "        vertical-align: top;\n",
       "    }\n",
       "\n",
       "    .dataframe thead th {\n",
       "        text-align: right;\n",
       "    }\n",
       "</style>\n",
       "<table border=\"1\" class=\"dataframe\">\n",
       "  <thead>\n",
       "    <tr style=\"text-align: right;\">\n",
       "      <th></th>\n",
       "      <th>Fossil fuels (TWh)</th>\n",
       "      <th>Gas (TWh)</th>\n",
       "      <th>Coal (TWh)</th>\n",
       "      <th>Oil (TWh)</th>\n",
       "      <th>Solar (TWh)</th>\n",
       "      <th>Wind (TWh)</th>\n",
       "      <th>Renewables (TWh)</th>\n",
       "      <th>Hydropower (TWh)</th>\n",
       "    </tr>\n",
       "  </thead>\n",
       "  <tbody>\n",
       "    <tr>\n",
       "      <th>missing_ratio</th>\n",
       "      <td>0.00</td>\n",
       "      <td>0.0000</td>\n",
       "      <td>0.0000</td>\n",
       "      <td>0.0000</td>\n",
       "      <td>0.0</td>\n",
       "      <td>0.00</td>\n",
       "      <td>0.0</td>\n",
       "      <td>0.0</td>\n",
       "    </tr>\n",
       "    <tr>\n",
       "      <th>min</th>\n",
       "      <td>12.00</td>\n",
       "      <td>0.0800</td>\n",
       "      <td>0.0100</td>\n",
       "      <td>7.2000</td>\n",
       "      <td>1.0</td>\n",
       "      <td>1.00</td>\n",
       "      <td>1.0</td>\n",
       "      <td>1.0</td>\n",
       "    </tr>\n",
       "    <tr>\n",
       "      <th>lower_quartile</th>\n",
       "      <td>207.75</td>\n",
       "      <td>43.5375</td>\n",
       "      <td>10.1100</td>\n",
       "      <td>85.4025</td>\n",
       "      <td>23.0</td>\n",
       "      <td>9.75</td>\n",
       "      <td>19.0</td>\n",
       "      <td>14.0</td>\n",
       "    </tr>\n",
       "    <tr>\n",
       "      <th>median</th>\n",
       "      <td>551.50</td>\n",
       "      <td>168.5700</td>\n",
       "      <td>54.2500</td>\n",
       "      <td>175.1150</td>\n",
       "      <td>27.7</td>\n",
       "      <td>46.00</td>\n",
       "      <td>72.5</td>\n",
       "      <td>62.5</td>\n",
       "    </tr>\n",
       "    <tr>\n",
       "      <th>upper_quartile</th>\n",
       "      <td>1570.70</td>\n",
       "      <td>412.2000</td>\n",
       "      <td>365.7325</td>\n",
       "      <td>563.7700</td>\n",
       "      <td>27.7</td>\n",
       "      <td>46.00</td>\n",
       "      <td>194.4</td>\n",
       "      <td>140.5</td>\n",
       "    </tr>\n",
       "    <tr>\n",
       "      <th>max</th>\n",
       "      <td>36319.00</td>\n",
       "      <td>8812.1200</td>\n",
       "      <td>24559.4900</td>\n",
       "      <td>11214.0800</td>\n",
       "      <td>1115.0</td>\n",
       "      <td>1988.00</td>\n",
       "      <td>7093.0</td>\n",
       "      <td>3471.0</td>\n",
       "    </tr>\n",
       "  </tbody>\n",
       "</table>\n",
       "</div>"
      ],
      "text/plain": [
       "                Fossil fuels (TWh)  Gas (TWh)  Coal (TWh)   Oil (TWh)  \\\n",
       "missing_ratio                 0.00     0.0000      0.0000      0.0000   \n",
       "min                          12.00     0.0800      0.0100      7.2000   \n",
       "lower_quartile              207.75    43.5375     10.1100     85.4025   \n",
       "median                      551.50   168.5700     54.2500    175.1150   \n",
       "upper_quartile             1570.70   412.2000    365.7325    563.7700   \n",
       "max                       36319.00  8812.1200  24559.4900  11214.0800   \n",
       "\n",
       "                Solar (TWh)  Wind (TWh)  Renewables (TWh)  Hydropower (TWh)  \n",
       "missing_ratio           0.0        0.00               0.0               0.0  \n",
       "min                     1.0        1.00               1.0               1.0  \n",
       "lower_quartile         23.0        9.75              19.0              14.0  \n",
       "median                 27.7       46.00              72.5              62.5  \n",
       "upper_quartile         27.7       46.00             194.4             140.5  \n",
       "max                  1115.0     1988.00            7093.0            3471.0  "
      ]
     },
     "execution_count": 15,
     "metadata": {},
     "output_type": "execute_result"
    }
   ],
   "source": [
    "# YOUR CODE HERE\n",
    "num_col_info_df = df.select_dtypes(include = 'number')\n",
    "def missing_ratio(df):\n",
    "    return df.isna().mean() * 100\n",
    "def lower_quartile(df):\n",
    "    return df.quantile(0.25)\n",
    "def median(df):\n",
    "    return df.quantile(0.5)\n",
    "def upper_quartile(df):\n",
    "    return df.quantile(0.75)\n",
    "num_col_info_df = num_col_info_df.agg([missing_ratio, \"min\", lower_quartile, median, upper_quartile, \"max\"]).round(1)\n",
    "df.select_dtypes(exclude='object').agg([missing_ratio, \"min\", lower_quartile, median, upper_quartile, \"max\"])"
   ]
  },
  {
   "cell_type": "markdown",
   "metadata": {},
   "source": [
    "6. Kiểm tra tính hợp lệ của dữ liệu"
   ]
  },
  {
   "cell_type": "code",
   "execution_count": 16,
   "metadata": {},
   "outputs": [
    {
     "data": {
      "text/plain": [
       "True"
      ]
     },
     "execution_count": 16,
     "metadata": {},
     "output_type": "execute_result"
    }
   ],
   "source": [
    "def checking_resonable(df: pd.DataFrame) -> bool:\n",
    "    for col in df.columns:\n",
    "        if df[col].min() < 0 :\n",
    "            return False\n",
    "    return True\n",
    "#check\n",
    "raw_df = df.select_dtypes(include = 'number')\n",
    "checking_resonable(raw_df)"
   ]
  },
  {
   "cell_type": "code",
   "execution_count": 17,
   "metadata": {},
   "outputs": [],
   "source": [
    "# Lưu file đã xử lý\n",
    "df.to_csv(\"../Data/data__processed.csv\")"
   ]
  }
 ],
 "metadata": {
  "kernelspec": {
   "display_name": "Python 3 (ipykernel)",
   "language": "python",
   "name": "python3"
  },
  "language_info": {
   "codemirror_mode": {
    "name": "ipython",
    "version": 3
   },
   "file_extension": ".py",
   "mimetype": "text/x-python",
   "name": "python",
   "nbconvert_exporter": "python",
   "pygments_lexer": "ipython3",
   "version": "3.11.5"
  },
  "vscode": {
   "interpreter": {
    "hash": "a897ecb8d91bfc7f294ab6da99f9baa00d09906c3ac640a3c63be6db9bb3112f"
   }
  }
 },
 "nbformat": 4,
 "nbformat_minor": 2
}
