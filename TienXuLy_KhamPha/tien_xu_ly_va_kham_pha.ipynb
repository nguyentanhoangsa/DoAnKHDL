{
 "cells": [
  {
   "attachments": {},
   "cell_type": "markdown",
   "metadata": {},
   "source": [
    "===========================================Tiền Xử Lí Và Khám Phá Dữ Liệu================================="
   ]
  },
  {
   "attachments": {},
   "cell_type": "markdown",
   "metadata": {},
   "source": [
    "1. IMPORT THƯ VIỆN"
   ]
  },
  {
   "cell_type": "code",
   "execution_count": 1,
   "metadata": {},
   "outputs": [],
   "source": [
    "\n",
    "import numpy as np\n",
    "import pandas as pd"
   ]
  },
  {
   "attachments": {},
   "cell_type": "markdown",
   "metadata": {},
   "source": [
    "2. ĐỌC DỮ LIỆU KIỂM TRA VÀ KIỂM TRA SỐ DÒNG, SỐ CỘT DỮ LIỆU"
   ]
  },
  {
   "cell_type": "code",
   "execution_count": 3,
   "metadata": {},
   "outputs": [
    {
     "data": {
      "text/html": [
       "<div>\n",
       "<style scoped>\n",
       "    .dataframe tbody tr th:only-of-type {\n",
       "        vertical-align: middle;\n",
       "    }\n",
       "\n",
       "    .dataframe tbody tr th {\n",
       "        vertical-align: top;\n",
       "    }\n",
       "\n",
       "    .dataframe thead th {\n",
       "        text-align: right;\n",
       "    }\n",
       "</style>\n",
       "<table border=\"1\" class=\"dataframe\">\n",
       "  <thead>\n",
       "    <tr style=\"text-align: right;\">\n",
       "      <th></th>\n",
       "      <th>Country</th>\n",
       "      <th>Year</th>\n",
       "      <th>Fossil fuels</th>\n",
       "      <th>Gas</th>\n",
       "      <th>Coal</th>\n",
       "      <th>Oil</th>\n",
       "      <th>Solar</th>\n",
       "      <th>Wind</th>\n",
       "      <th>Renewables</th>\n",
       "      <th>Hydropower</th>\n",
       "    </tr>\n",
       "  </thead>\n",
       "  <tbody>\n",
       "    <tr>\n",
       "      <th>0</th>\n",
       "      <td>Algeria</td>\n",
       "      <td>2000</td>\n",
       "      <td>300 TWh</td>\n",
       "      <td>191.01 TWh</td>\n",
       "      <td>5.64 TWh</td>\n",
       "      <td>103.13 TWh</td>\n",
       "      <td>0 TWh</td>\n",
       "      <td>0 TWh</td>\n",
       "      <td>0 TWh</td>\n",
       "      <td>0 TWh</td>\n",
       "    </tr>\n",
       "    <tr>\n",
       "      <th>1</th>\n",
       "      <td>Argentina</td>\n",
       "      <td>2000</td>\n",
       "      <td>595 TWh</td>\n",
       "      <td>322.97 TWh</td>\n",
       "      <td>7.51 TWh</td>\n",
       "      <td>264.94 TWh</td>\n",
       "      <td>0 TWh</td>\n",
       "      <td>0 TWh</td>\n",
       "      <td>86 TWh</td>\n",
       "      <td>84 TWh</td>\n",
       "    </tr>\n",
       "    <tr>\n",
       "      <th>2</th>\n",
       "      <td>Australia</td>\n",
       "      <td>2000</td>\n",
       "      <td>1,253 TWh</td>\n",
       "      <td>205.55 TWh</td>\n",
       "      <td>591.66 TWh</td>\n",
       "      <td>455.98 TWh</td>\n",
       "      <td>0 TWh</td>\n",
       "      <td>0 TWh</td>\n",
       "      <td>52 TWh</td>\n",
       "      <td>49 TWh</td>\n",
       "    </tr>\n",
       "    <tr>\n",
       "      <th>3</th>\n",
       "      <td>Austria</td>\n",
       "      <td>2000</td>\n",
       "      <td>262 TWh</td>\n",
       "      <td>78.21 TWh</td>\n",
       "      <td>42.47 TWh</td>\n",
       "      <td>141.75 TWh</td>\n",
       "      <td>0 TWh</td>\n",
       "      <td>0 TWh</td>\n",
       "      <td>129 TWh</td>\n",
       "      <td>124 TWh</td>\n",
       "    </tr>\n",
       "    <tr>\n",
       "      <th>4</th>\n",
       "      <td>Azerbaijan</td>\n",
       "      <td>2000</td>\n",
       "      <td>128 TWh</td>\n",
       "      <td>52.83 TWh</td>\n",
       "      <td>0.00 TWh</td>\n",
       "      <td>74.69 TWh</td>\n",
       "      <td>0 TWh</td>\n",
       "      <td>0 TWh</td>\n",
       "      <td>5 TWh</td>\n",
       "      <td>5 TWh</td>\n",
       "    </tr>\n",
       "  </tbody>\n",
       "</table>\n",
       "</div>"
      ],
      "text/plain": [
       "      Country  Year Fossil fuels         Gas        Coal         Oil  Solar  \\\n",
       "0     Algeria  2000      300 TWh  191.01 TWh    5.64 TWh  103.13 TWh  0 TWh   \n",
       "1   Argentina  2000      595 TWh  322.97 TWh    7.51 TWh  264.94 TWh  0 TWh   \n",
       "2   Australia  2000    1,253 TWh  205.55 TWh  591.66 TWh  455.98 TWh  0 TWh   \n",
       "3     Austria  2000      262 TWh   78.21 TWh   42.47 TWh  141.75 TWh  0 TWh   \n",
       "4  Azerbaijan  2000      128 TWh   52.83 TWh    0.00 TWh   74.69 TWh  0 TWh   \n",
       "\n",
       "    Wind Renewables Hydropower  \n",
       "0  0 TWh      0 TWh      0 TWh  \n",
       "1  0 TWh     86 TWh     84 TWh  \n",
       "2  0 TWh     52 TWh     49 TWh  \n",
       "3  0 TWh    129 TWh    124 TWh  \n",
       "4  0 TWh      5 TWh      5 TWh  "
      ]
     },
     "execution_count": 3,
     "metadata": {},
     "output_type": "execute_result"
    }
   ],
   "source": [
    "df = pd.read_csv(\"../Data/data.csv\")\n",
    "df.head()"
   ]
  },
  {
   "cell_type": "code",
   "execution_count": 4,
   "metadata": {},
   "outputs": [
    {
     "name": "stdout",
     "output_type": "stream",
     "text": [
      "Shape: (1840, 10)\n"
     ]
    }
   ],
   "source": [
    "shape = df.shape\n",
    "print(f\"Shape: {shape}\")"
   ]
  },
  {
   "cell_type": "code",
   "execution_count": 6,
   "metadata": {},
   "outputs": [
    {
     "name": "stdout",
     "output_type": "stream",
     "text": [
      "Số dòng dữ liệu đạt yêu cầu.\n",
      "Số cột dữ liệu đạt yêu cầu.\n",
      "Dữ liệu không có dòng lặp lại.\n"
     ]
    }
   ],
   "source": [
    "#Số dòng\n",
    "if shape[0] > 1000:\n",
    "    print(f\"Số dòng dữ liệu đạt yêu cầu.\")\n",
    "else:\n",
    "    print(f\"Số dòng dữ liệu không đạt yêu cầu\")\n",
    "#Số cột\n",
    "if shape[1] >= 5:\n",
    "    print(f\"Số cột dữ liệu đạt yêu cầu.\")\n",
    "else:\n",
    "    print(f\"Số cột dữ liệu không đạt yêu cầu\")\n",
    "#Kiểm tra có dòng duplicate không\n",
    "num_duplicated_rows = df.index.duplicated().sum()\n",
    "if num_duplicated_rows == 0:\n",
    "    print(f\"Dữ liệu không có dòng lặp lại.\")\n",
    "else:\n",
    "    print(f\"Dữ liệu bạn có {num_duplicated_rows} lặp lại.\")"
   ]
  },
  {
   "attachments": {},
   "cell_type": "markdown",
   "metadata": {},
   "source": [
    "3. Ý NGHĨA CỦA CÁC CỘT TRONG DATAFRAME VÀ THÔNG TIN VỀ DATAFRAME"
   ]
  },
  {
   "cell_type": "code",
   "execution_count": 7,
   "metadata": {},
   "outputs": [
    {
     "name": "stdout",
     "output_type": "stream",
     "text": [
      "<class 'pandas.core.frame.DataFrame'>\n",
      "RangeIndex: 1840 entries, 0 to 1839\n",
      "Data columns (total 10 columns):\n",
      " #   Column        Non-Null Count  Dtype \n",
      "---  ------        --------------  ----- \n",
      " 0   Country       1840 non-null   object\n",
      " 1   Year          1840 non-null   int64 \n",
      " 2   Fossil fuels  1697 non-null   object\n",
      " 3   Gas           1752 non-null   object\n",
      " 4   Coal          1762 non-null   object\n",
      " 5   Oil           1817 non-null   object\n",
      " 6   Solar         1805 non-null   object\n",
      " 7   Wind          1817 non-null   object\n",
      " 8   Renewables    1639 non-null   object\n",
      " 9   Hydropower    1639 non-null   object\n",
      "dtypes: int64(1), object(9)\n",
      "memory usage: 143.9+ KB\n"
     ]
    }
   ],
   "source": [
    "df.info()"
   ]
  },
  {
   "attachments": {},
   "cell_type": "markdown",
   "metadata": {},
   "source": [
    "- Ý nghĩa về các cột trong DataFrame:\n",
    "    **Chú ý:** các đơn vị năng lượng sử dụng ở đây là TWh, vì đây là lượng năng lượng sử dụng cả một năm.\n",
    "    + Country: Đất nước mà chúng ta đang đề cập đến.\n",
    "    + Year: Năm tương ứng.\n",
    "    + Fosil fuels: Tổng năng lượng hóa thạch sử dụng của đất nước Country trong năm Year (nó bao gồm Oil,Coal ở phía dưới).\n",
    "    + Gas: Tổng năng lượng từ khí gas sử dụng của đất nước Country trong năm Year.\n",
    "    + Coal: Tổng năng lượng từ than đá sử dụng của đất nước Country trong năm Year.\n",
    "    + Oil: Tổng năng lượng từ dầu sử dụng của đất nước Country trong năm Year.\n",
    "    + Solar: Tổng năng lượng mặt trời sử dụng của đất nước Country trong năm Year.\n",
    "    + Wind: Tổng năng lượng gió sử dụng của đất nước Country trong năm Year.\n",
    "    + Renewables: Tổng năng lượng tái tạo sử dụng của đất nước Country trong năm Year (nó bao gồm Wind,Solar,Hydropower).\n",
    "    + Hydropower: Tổng năng lượng từ thủy điện sử dụng của đất nước Country trong năm Year."
   ]
  },
  {
   "attachments": {},
   "cell_type": "markdown",
   "metadata": {},
   "source": [
    "- Tổng quan về dữ liệu:\n",
    "    + Dữ liệu có 1840 dòng và 9 cột.\n",
    "    + Có 1 đối tượng kiểu in64 là Year, còn lại là kiểu object\n",
    "    + Số lượng dữ liệu không phải null thể hiện như ở trên."
   ]
  },
  {
   "attachments": {},
   "cell_type": "markdown",
   "metadata": {},
   "source": [
    "4. XỬ LÝ DỮ LIỆU, CHUYỂN CÁC KIỂU DỮ LIỆU CẦN THIẾT VỀ NUMERIC VÀ XEM XÉT BỎ CÁC CỘT CÓ ĐỘ MẤT MÁT DỮ LIỆU LỚN\n"
   ]
  },
  {
   "attachments": {},
   "cell_type": "markdown",
   "metadata": {},
   "source": [
    "        4.1 Xử lý dữ liệu, chuyển các kiểu dữ liệu về kiểu numeric"
   ]
  },
  {
   "cell_type": "code",
   "execution_count": 8,
   "metadata": {},
   "outputs": [
    {
     "name": "stdout",
     "output_type": "stream",
     "text": [
      "<class 'pandas.core.frame.DataFrame'>\n",
      "RangeIndex: 1840 entries, 0 to 1839\n",
      "Data columns (total 10 columns):\n",
      " #   Column        Non-Null Count  Dtype  \n",
      "---  ------        --------------  -----  \n",
      " 0   Country       1840 non-null   object \n",
      " 1   Year          1840 non-null   int64  \n",
      " 2   Fossil fuels  1697 non-null   float64\n",
      " 3   Gas           1752 non-null   float64\n",
      " 4   Coal          1762 non-null   float64\n",
      " 5   Oil           1817 non-null   float64\n",
      " 6   Solar         1805 non-null   float64\n",
      " 7   Wind          1817 non-null   float64\n",
      " 8   Renewables    1639 non-null   float64\n",
      " 9   Hydropower    1639 non-null   float64\n",
      "dtypes: float64(8), int64(1), object(1)\n",
      "memory usage: 143.9+ KB\n"
     ]
    }
   ],
   "source": [
    "#Chuyển các dữ liệu về kiểu số.\n",
    "convert_columns=df.columns[2:]#Bỏ ra cột tên nước và năm đi\n",
    "for col in convert_columns:\n",
    "    df[col] = pd.to_numeric(df[col].str.replace(' TWh', '').str.replace(',', ''),errors='coerce')\n",
    "df.info()"
   ]
  },
  {
   "attachments": {},
   "cell_type": "markdown",
   "metadata": {},
   "source": [
    "- Sau khi thực hiện như trên ta thấy các dữ liệu các dữ liệu năng lượng đều chuyển về kiểu float64."
   ]
  },
  {
   "attachments": {},
   "cell_type": "markdown",
   "metadata": {},
   "source": [
    "        4.2 Tìm kiếm các cột dữ liệu bị mất quá nhiều."
   ]
  },
  {
   "cell_type": "code",
   "execution_count": 10,
   "metadata": {},
   "outputs": [
    {
     "data": {
      "text/html": [
       "<div>\n",
       "<style scoped>\n",
       "    .dataframe tbody tr th:only-of-type {\n",
       "        vertical-align: middle;\n",
       "    }\n",
       "\n",
       "    .dataframe tbody tr th {\n",
       "        vertical-align: top;\n",
       "    }\n",
       "\n",
       "    .dataframe thead th {\n",
       "        text-align: right;\n",
       "    }\n",
       "</style>\n",
       "<table border=\"1\" class=\"dataframe\">\n",
       "  <thead>\n",
       "    <tr style=\"text-align: right;\">\n",
       "      <th></th>\n",
       "      <th>Year</th>\n",
       "      <th>Fossil fuels</th>\n",
       "      <th>Gas</th>\n",
       "      <th>Coal</th>\n",
       "      <th>Oil</th>\n",
       "      <th>Solar</th>\n",
       "      <th>Wind</th>\n",
       "      <th>Renewables</th>\n",
       "      <th>Hydropower</th>\n",
       "    </tr>\n",
       "  </thead>\n",
       "  <tbody>\n",
       "    <tr>\n",
       "      <th>missing_ratio</th>\n",
       "      <td>0.0</td>\n",
       "      <td>7.8</td>\n",
       "      <td>4.8</td>\n",
       "      <td>4.2</td>\n",
       "      <td>1.2</td>\n",
       "      <td>1.9</td>\n",
       "      <td>1.2</td>\n",
       "      <td>10.9</td>\n",
       "      <td>10.9</td>\n",
       "    </tr>\n",
       "    <tr>\n",
       "      <th>min</th>\n",
       "      <td>2000.0</td>\n",
       "      <td>12.0</td>\n",
       "      <td>0.0</td>\n",
       "      <td>0.0</td>\n",
       "      <td>7.2</td>\n",
       "      <td>0.0</td>\n",
       "      <td>0.0</td>\n",
       "      <td>0.0</td>\n",
       "      <td>0.0</td>\n",
       "    </tr>\n",
       "    <tr>\n",
       "      <th>mean</th>\n",
       "      <td>2011.0</td>\n",
       "      <td>1570.7</td>\n",
       "      <td>411.3</td>\n",
       "      <td>511.6</td>\n",
       "      <td>584.9</td>\n",
       "      <td>8.9</td>\n",
       "      <td>21.9</td>\n",
       "      <td>184.7</td>\n",
       "      <td>123.4</td>\n",
       "    </tr>\n",
       "    <tr>\n",
       "      <th>max</th>\n",
       "      <td>2022.0</td>\n",
       "      <td>36319.0</td>\n",
       "      <td>8812.1</td>\n",
       "      <td>24559.5</td>\n",
       "      <td>11214.1</td>\n",
       "      <td>1115.0</td>\n",
       "      <td>1988.0</td>\n",
       "      <td>7093.0</td>\n",
       "      <td>3471.0</td>\n",
       "    </tr>\n",
       "  </tbody>\n",
       "</table>\n",
       "</div>"
      ],
      "text/plain": [
       "                 Year  Fossil fuels     Gas     Coal      Oil   Solar    Wind  \\\n",
       "missing_ratio     0.0           7.8     4.8      4.2      1.2     1.9     1.2   \n",
       "min            2000.0          12.0     0.0      0.0      7.2     0.0     0.0   \n",
       "mean           2011.0        1570.7   411.3    511.6    584.9     8.9    21.9   \n",
       "max            2022.0       36319.0  8812.1  24559.5  11214.1  1115.0  1988.0   \n",
       "\n",
       "               Renewables  Hydropower  \n",
       "missing_ratio        10.9        10.9  \n",
       "min                   0.0         0.0  \n",
       "mean                184.7       123.4  \n",
       "max                7093.0      3471.0  "
      ]
     },
     "execution_count": 10,
     "metadata": {},
     "output_type": "execute_result"
    }
   ],
   "source": [
    "#Tính toán giá trị phần trăm mà dữ liệu bị mất và hiển thị thêm thông tin về giá trị lớn nhất và nhỏ nhất luôn.\n",
    "raw_df = df.select_dtypes(exclude=['object']) # chỉ lấy kiểu numeric, ko lấy kiểu object,str\n",
    "def missing_ratio(raw_df):\n",
    "    return raw_df.isna().mean() * 100\n",
    "num_col_info_df = raw_df.agg([missing_ratio, \"min\", \"mean\", \"max\"]).round(1)\n",
    "num_col_info_df"
   ]
  },
  {
   "attachments": {},
   "cell_type": "markdown",
   "metadata": {},
   "source": [
    "- Ở bảng trên ta thấy dòng đầu tiên là tỉ lệ phần trăm dữ liệu bị mất, tiếp theo là các dòng giá trị nhỏ nhất, trung bình và lớn nhất của tương ứng với từng cột thuộc tính.\n",
    "- Cột year ở đây không có ý nghĩa nhưng mà ta thêm vào để thấy được dữ liệu bị mất của nó là 0% chứng tỏ chúng ta đang làm đúng."
   ]
  },
  {
   "attachments": {},
   "cell_type": "markdown",
   "metadata": {},
   "source": [
    "        4.3 Xử lí nếu các cột dữ liệu bị mất quá nhiều"
   ]
  },
  {
   "cell_type": "code",
   "execution_count": null,
   "metadata": {},
   "outputs": [],
   "source": []
  }
 ],
 "metadata": {
  "kernelspec": {
   "display_name": "Python 3 (ipykernel)",
   "language": "python",
   "name": "python3"
  },
  "language_info": {
   "codemirror_mode": {
    "name": "ipython",
    "version": 3
   },
   "file_extension": ".py",
   "mimetype": "text/x-python",
   "name": "python",
   "nbconvert_exporter": "python",
   "pygments_lexer": "ipython3",
   "version": "3.9.13"
  },
  "vscode": {
   "interpreter": {
    "hash": "a897ecb8d91bfc7f294ab6da99f9baa00d09906c3ac640a3c63be6db9bb3112f"
   }
  }
 },
 "nbformat": 4,
 "nbformat_minor": 2
}
