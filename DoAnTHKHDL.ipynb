{
 "cells": [
  {
   "cell_type": "markdown",
   "id": "ac95f7ff",
   "metadata": {},
   "source": [
    "Nhóm 7:\n",
    "    21120083_Phan Văn Khải\n",
    "    21120096_Hồ Châu Long\n",
    "    21120126_Nguyễn Tấn Hoàng Sa"
   ]
  }
 ],
 "metadata": {
  "kernelspec": {
   "display_name": "Python 3 (ipykernel)",
   "language": "python",
   "name": "python3"
  },
  "language_info": {
   "codemirror_mode": {
    "name": "ipython",
    "version": 3
   },
   "file_extension": ".py",
   "mimetype": "text/x-python",
   "name": "python",
   "nbconvert_exporter": "python",
   "pygments_lexer": "ipython3",
   "version": "3.11.5"
  }
 },
 "nbformat": 4,
 "nbformat_minor": 5
}
