{
 "cells": [
  {
   "cell_type": "markdown",
   "id": "ac95f7ff",
   "metadata": {},
   "source": [
    "Nhóm 7:\n",
    "    21120083_Phan Văn Khải\n",
    "    21120096_Hồ Châu Long\n",
    "    21120126_Nguyễn Tấn Hoàng Sa"
   ]
  },
  {
   "cell_type": "code",
   "execution_count": 1,
   "metadata": {},
   "outputs": [
    {
     "ename": "KeyError",
     "evalue": "'[0] not found in axis'",
     "output_type": "error",
     "traceback": [
      "\u001b[1;31m---------------------------------------------------------------------------\u001b[0m",
      "\u001b[1;31mKeyError\u001b[0m                                  Traceback (most recent call last)",
      "\u001b[1;32mc:\\Users\\phanv\\OneDrive - VNU-HCMUS\\Documents\\GitHub\\DoAnKHDL\\DoAnTHKHDL.ipynb Cell 2\u001b[0m line \u001b[0;36m5\n\u001b[0;32m     <a href='vscode-notebook-cell:/c%3A/Users/phanv/OneDrive%20-%20VNU-HCMUS/Documents/GitHub/DoAnKHDL/DoAnTHKHDL.ipynb#W1sZmlsZQ%3D%3D?line=53'>54</a>\u001b[0m types \u001b[39m=\u001b[39m [\u001b[39m'\u001b[39m\u001b[39mFossil fuels\u001b[39m\u001b[39m'\u001b[39m,\u001b[39m'\u001b[39m\u001b[39mGas\u001b[39m\u001b[39m'\u001b[39m,\u001b[39m'\u001b[39m\u001b[39mCoal\u001b[39m\u001b[39m'\u001b[39m,\u001b[39m'\u001b[39m\u001b[39mOil\u001b[39m\u001b[39m'\u001b[39m,\u001b[39m'\u001b[39m\u001b[39mSolar\u001b[39m\u001b[39m'\u001b[39m,\u001b[39m'\u001b[39m\u001b[39mWind\u001b[39m\u001b[39m'\u001b[39m,\u001b[39m'\u001b[39m\u001b[39mLow-cacbon\u001b[39m\u001b[39m'\u001b[39m,\u001b[39m'\u001b[39m\u001b[39mRenewables\u001b[39m\u001b[39m'\u001b[39m,\u001b[39m'\u001b[39m\u001b[39mHydropower\u001b[39m\u001b[39m'\u001b[39m]\n\u001b[0;32m     <a href='vscode-notebook-cell:/c%3A/Users/phanv/OneDrive%20-%20VNU-HCMUS/Documents/GitHub/DoAnKHDL/DoAnTHKHDL.ipynb#W1sZmlsZQ%3D%3D?line=54'>55</a>\u001b[0m \u001b[39m#types = ['Fossil fuels','Gas']\u001b[39;00m\n\u001b[1;32m---> <a href='vscode-notebook-cell:/c%3A/Users/phanv/OneDrive%20-%20VNU-HCMUS/Documents/GitHub/DoAnKHDL/DoAnTHKHDL.ipynb#W1sZmlsZQ%3D%3D?line=55'>56</a>\u001b[0m df \u001b[39m=\u001b[39m crawl_full_data(types)\n\u001b[0;32m     <a href='vscode-notebook-cell:/c%3A/Users/phanv/OneDrive%20-%20VNU-HCMUS/Documents/GitHub/DoAnKHDL/DoAnTHKHDL.ipynb#W1sZmlsZQ%3D%3D?line=56'>57</a>\u001b[0m \u001b[39mprint\u001b[39m(df)\n\u001b[0;32m     <a href='vscode-notebook-cell:/c%3A/Users/phanv/OneDrive%20-%20VNU-HCMUS/Documents/GitHub/DoAnKHDL/DoAnTHKHDL.ipynb#W1sZmlsZQ%3D%3D?line=57'>58</a>\u001b[0m df\u001b[39m.\u001b[39mto_csv(\u001b[39m\"\u001b[39m\u001b[39mdata.csv\u001b[39m\u001b[39m\"\u001b[39m)\n",
      "\u001b[1;32mc:\\Users\\phanv\\OneDrive - VNU-HCMUS\\Documents\\GitHub\\DoAnKHDL\\DoAnTHKHDL.ipynb Cell 2\u001b[0m line \u001b[0;36m5\n\u001b[0;32m     <a href='vscode-notebook-cell:/c%3A/Users/phanv/OneDrive%20-%20VNU-HCMUS/Documents/GitHub/DoAnKHDL/DoAnTHKHDL.ipynb#W1sZmlsZQ%3D%3D?line=47'>48</a>\u001b[0m df \u001b[39m=\u001b[39m pd\u001b[39m.\u001b[39mDataFrame(columns\u001b[39m=\u001b[39m [\u001b[39m'\u001b[39m\u001b[39mCountry\u001b[39m\u001b[39m'\u001b[39m,\u001b[39m'\u001b[39m\u001b[39mYear\u001b[39m\u001b[39m'\u001b[39m])\n\u001b[0;32m     <a href='vscode-notebook-cell:/c%3A/Users/phanv/OneDrive%20-%20VNU-HCMUS/Documents/GitHub/DoAnKHDL/DoAnTHKHDL.ipynb#W1sZmlsZQ%3D%3D?line=48'>49</a>\u001b[0m \u001b[39mfor\u001b[39;00m \u001b[39mtype\u001b[39m \u001b[39min\u001b[39;00m types:\n\u001b[1;32m---> <a href='vscode-notebook-cell:/c%3A/Users/phanv/OneDrive%20-%20VNU-HCMUS/Documents/GitHub/DoAnKHDL/DoAnTHKHDL.ipynb#W1sZmlsZQ%3D%3D?line=49'>50</a>\u001b[0m     df1 \u001b[39m=\u001b[39m crawl_type_data(\u001b[39mtype\u001b[39;49m)\n\u001b[0;32m     <a href='vscode-notebook-cell:/c%3A/Users/phanv/OneDrive%20-%20VNU-HCMUS/Documents/GitHub/DoAnKHDL/DoAnTHKHDL.ipynb#W1sZmlsZQ%3D%3D?line=50'>51</a>\u001b[0m     df \u001b[39m=\u001b[39m pd\u001b[39m.\u001b[39mmerge(df, df1 ,how\u001b[39m=\u001b[39m\u001b[39m'\u001b[39m\u001b[39mouter\u001b[39m\u001b[39m'\u001b[39m,on\u001b[39m=\u001b[39m[\u001b[39m'\u001b[39m\u001b[39mCountry\u001b[39m\u001b[39m'\u001b[39m,\u001b[39m'\u001b[39m\u001b[39mYear\u001b[39m\u001b[39m'\u001b[39m])\n\u001b[0;32m     <a href='vscode-notebook-cell:/c%3A/Users/phanv/OneDrive%20-%20VNU-HCMUS/Documents/GitHub/DoAnKHDL/DoAnTHKHDL.ipynb#W1sZmlsZQ%3D%3D?line=51'>52</a>\u001b[0m \u001b[39mreturn\u001b[39;00m df\n",
      "\u001b[1;32mc:\\Users\\phanv\\OneDrive - VNU-HCMUS\\Documents\\GitHub\\DoAnKHDL\\DoAnTHKHDL.ipynb Cell 2\u001b[0m line \u001b[0;36m4\n\u001b[0;32m     <a href='vscode-notebook-cell:/c%3A/Users/phanv/OneDrive%20-%20VNU-HCMUS/Documents/GitHub/DoAnKHDL/DoAnTHKHDL.ipynb#W1sZmlsZQ%3D%3D?line=40'>41</a>\u001b[0m df \u001b[39m=\u001b[39m pd\u001b[39m.\u001b[39mDataFrame(columns\u001b[39m=\u001b[39m [\u001b[39m'\u001b[39m\u001b[39mCountry\u001b[39m\u001b[39m'\u001b[39m,\u001b[39m'\u001b[39m\u001b[39mYear\u001b[39m\u001b[39m'\u001b[39m,\u001b[39mtype\u001b[39m])\n\u001b[0;32m     <a href='vscode-notebook-cell:/c%3A/Users/phanv/OneDrive%20-%20VNU-HCMUS/Documents/GitHub/DoAnKHDL/DoAnTHKHDL.ipynb#W1sZmlsZQ%3D%3D?line=41'>42</a>\u001b[0m \u001b[39mfor\u001b[39;00m i \u001b[39min\u001b[39;00m \u001b[39mrange\u001b[39m(\u001b[39m2000\u001b[39m,\u001b[39m2023\u001b[39m):\n\u001b[1;32m---> <a href='vscode-notebook-cell:/c%3A/Users/phanv/OneDrive%20-%20VNU-HCMUS/Documents/GitHub/DoAnKHDL/DoAnTHKHDL.ipynb#W1sZmlsZQ%3D%3D?line=42'>43</a>\u001b[0m     df1 \u001b[39m=\u001b[39m crawl_data(i, \u001b[39mtype\u001b[39;49m)\n\u001b[0;32m     <a href='vscode-notebook-cell:/c%3A/Users/phanv/OneDrive%20-%20VNU-HCMUS/Documents/GitHub/DoAnKHDL/DoAnTHKHDL.ipynb#W1sZmlsZQ%3D%3D?line=43'>44</a>\u001b[0m     df \u001b[39m=\u001b[39m pd\u001b[39m.\u001b[39mmerge(df, df1 ,how\u001b[39m=\u001b[39m\u001b[39m'\u001b[39m\u001b[39mouter\u001b[39m\u001b[39m'\u001b[39m,on\u001b[39m=\u001b[39m[\u001b[39m'\u001b[39m\u001b[39mCountry\u001b[39m\u001b[39m'\u001b[39m,\u001b[39m'\u001b[39m\u001b[39mYear\u001b[39m\u001b[39m'\u001b[39m,\u001b[39mtype\u001b[39m])\n\u001b[0;32m     <a href='vscode-notebook-cell:/c%3A/Users/phanv/OneDrive%20-%20VNU-HCMUS/Documents/GitHub/DoAnKHDL/DoAnTHKHDL.ipynb#W1sZmlsZQ%3D%3D?line=44'>45</a>\u001b[0m \u001b[39mreturn\u001b[39;00m df\n",
      "\u001b[1;32mc:\\Users\\phanv\\OneDrive - VNU-HCMUS\\Documents\\GitHub\\DoAnKHDL\\DoAnTHKHDL.ipynb Cell 2\u001b[0m line \u001b[0;36m3\n\u001b[0;32m     <a href='vscode-notebook-cell:/c%3A/Users/phanv/OneDrive%20-%20VNU-HCMUS/Documents/GitHub/DoAnKHDL/DoAnTHKHDL.ipynb#W1sZmlsZQ%3D%3D?line=31'>32</a>\u001b[0m         data\u001b[39m.\u001b[39mappend(\u001b[39mNone\u001b[39;00m)\n\u001b[0;32m     <a href='vscode-notebook-cell:/c%3A/Users/phanv/OneDrive%20-%20VNU-HCMUS/Documents/GitHub/DoAnKHDL/DoAnTHKHDL.ipynb#W1sZmlsZQ%3D%3D?line=33'>34</a>\u001b[0m df \u001b[39m=\u001b[39m pd\u001b[39m.\u001b[39mDataFrame(\u001b[39mlist\u001b[39m(\u001b[39mzip\u001b[39m(country,nam,data)),columns\u001b[39m=\u001b[39m [\u001b[39m'\u001b[39m\u001b[39mCountry\u001b[39m\u001b[39m'\u001b[39m,\u001b[39m'\u001b[39m\u001b[39mYear\u001b[39m\u001b[39m'\u001b[39m,\u001b[39mtype\u001b[39m])\n\u001b[1;32m---> <a href='vscode-notebook-cell:/c%3A/Users/phanv/OneDrive%20-%20VNU-HCMUS/Documents/GitHub/DoAnKHDL/DoAnTHKHDL.ipynb#W1sZmlsZQ%3D%3D?line=34'>35</a>\u001b[0m df \u001b[39m=\u001b[39m df \u001b[39m=\u001b[39m df\u001b[39m.\u001b[39;49mdrop([\u001b[39m0\u001b[39;49m], axis\u001b[39m=\u001b[39;49m\u001b[39m0\u001b[39;49m)\n\u001b[0;32m     <a href='vscode-notebook-cell:/c%3A/Users/phanv/OneDrive%20-%20VNU-HCMUS/Documents/GitHub/DoAnKHDL/DoAnTHKHDL.ipynb#W1sZmlsZQ%3D%3D?line=35'>36</a>\u001b[0m df \u001b[39m=\u001b[39m df\u001b[39m.\u001b[39mdrop(labels\u001b[39m=\u001b[39mdf\u001b[39m.\u001b[39mindex[\u001b[39m-\u001b[39m\u001b[39m11\u001b[39m:])\n\u001b[0;32m     <a href='vscode-notebook-cell:/c%3A/Users/phanv/OneDrive%20-%20VNU-HCMUS/Documents/GitHub/DoAnKHDL/DoAnTHKHDL.ipynb#W1sZmlsZQ%3D%3D?line=36'>37</a>\u001b[0m \u001b[39mreturn\u001b[39;00m df\n",
      "File \u001b[1;32m~\\AppData\\Local\\Packages\\PythonSoftwareFoundation.Python.3.11_qbz5n2kfra8p0\\LocalCache\\local-packages\\Python311\\site-packages\\pandas\\core\\frame.py:5344\u001b[0m, in \u001b[0;36mDataFrame.drop\u001b[1;34m(self, labels, axis, index, columns, level, inplace, errors)\u001b[0m\n\u001b[0;32m   5196\u001b[0m \u001b[39mdef\u001b[39;00m \u001b[39mdrop\u001b[39m(\n\u001b[0;32m   5197\u001b[0m     \u001b[39mself\u001b[39m,\n\u001b[0;32m   5198\u001b[0m     labels: IndexLabel \u001b[39m|\u001b[39m \u001b[39mNone\u001b[39;00m \u001b[39m=\u001b[39m \u001b[39mNone\u001b[39;00m,\n\u001b[1;32m   (...)\u001b[0m\n\u001b[0;32m   5205\u001b[0m     errors: IgnoreRaise \u001b[39m=\u001b[39m \u001b[39m\"\u001b[39m\u001b[39mraise\u001b[39m\u001b[39m\"\u001b[39m,\n\u001b[0;32m   5206\u001b[0m ) \u001b[39m-\u001b[39m\u001b[39m>\u001b[39m DataFrame \u001b[39m|\u001b[39m \u001b[39mNone\u001b[39;00m:\n\u001b[0;32m   5207\u001b[0m \u001b[39m    \u001b[39m\u001b[39m\"\"\"\u001b[39;00m\n\u001b[0;32m   5208\u001b[0m \u001b[39m    Drop specified labels from rows or columns.\u001b[39;00m\n\u001b[0;32m   5209\u001b[0m \n\u001b[1;32m   (...)\u001b[0m\n\u001b[0;32m   5342\u001b[0m \u001b[39m            weight  1.0     0.8\u001b[39;00m\n\u001b[0;32m   5343\u001b[0m \u001b[39m    \"\"\"\u001b[39;00m\n\u001b[1;32m-> 5344\u001b[0m     \u001b[39mreturn\u001b[39;00m \u001b[39msuper\u001b[39;49m()\u001b[39m.\u001b[39;49mdrop(\n\u001b[0;32m   5345\u001b[0m         labels\u001b[39m=\u001b[39;49mlabels,\n\u001b[0;32m   5346\u001b[0m         axis\u001b[39m=\u001b[39;49maxis,\n\u001b[0;32m   5347\u001b[0m         index\u001b[39m=\u001b[39;49mindex,\n\u001b[0;32m   5348\u001b[0m         columns\u001b[39m=\u001b[39;49mcolumns,\n\u001b[0;32m   5349\u001b[0m         level\u001b[39m=\u001b[39;49mlevel,\n\u001b[0;32m   5350\u001b[0m         inplace\u001b[39m=\u001b[39;49minplace,\n\u001b[0;32m   5351\u001b[0m         errors\u001b[39m=\u001b[39;49merrors,\n\u001b[0;32m   5352\u001b[0m     )\n",
      "File \u001b[1;32m~\\AppData\\Local\\Packages\\PythonSoftwareFoundation.Python.3.11_qbz5n2kfra8p0\\LocalCache\\local-packages\\Python311\\site-packages\\pandas\\core\\generic.py:4711\u001b[0m, in \u001b[0;36mNDFrame.drop\u001b[1;34m(self, labels, axis, index, columns, level, inplace, errors)\u001b[0m\n\u001b[0;32m   4709\u001b[0m \u001b[39mfor\u001b[39;00m axis, labels \u001b[39min\u001b[39;00m axes\u001b[39m.\u001b[39mitems():\n\u001b[0;32m   4710\u001b[0m     \u001b[39mif\u001b[39;00m labels \u001b[39mis\u001b[39;00m \u001b[39mnot\u001b[39;00m \u001b[39mNone\u001b[39;00m:\n\u001b[1;32m-> 4711\u001b[0m         obj \u001b[39m=\u001b[39m obj\u001b[39m.\u001b[39;49m_drop_axis(labels, axis, level\u001b[39m=\u001b[39;49mlevel, errors\u001b[39m=\u001b[39;49merrors)\n\u001b[0;32m   4713\u001b[0m \u001b[39mif\u001b[39;00m inplace:\n\u001b[0;32m   4714\u001b[0m     \u001b[39mself\u001b[39m\u001b[39m.\u001b[39m_update_inplace(obj)\n",
      "File \u001b[1;32m~\\AppData\\Local\\Packages\\PythonSoftwareFoundation.Python.3.11_qbz5n2kfra8p0\\LocalCache\\local-packages\\Python311\\site-packages\\pandas\\core\\generic.py:4753\u001b[0m, in \u001b[0;36mNDFrame._drop_axis\u001b[1;34m(self, labels, axis, level, errors, only_slice)\u001b[0m\n\u001b[0;32m   4751\u001b[0m         new_axis \u001b[39m=\u001b[39m axis\u001b[39m.\u001b[39mdrop(labels, level\u001b[39m=\u001b[39mlevel, errors\u001b[39m=\u001b[39merrors)\n\u001b[0;32m   4752\u001b[0m     \u001b[39melse\u001b[39;00m:\n\u001b[1;32m-> 4753\u001b[0m         new_axis \u001b[39m=\u001b[39m axis\u001b[39m.\u001b[39;49mdrop(labels, errors\u001b[39m=\u001b[39;49merrors)\n\u001b[0;32m   4754\u001b[0m     indexer \u001b[39m=\u001b[39m axis\u001b[39m.\u001b[39mget_indexer(new_axis)\n\u001b[0;32m   4756\u001b[0m \u001b[39m# Case for non-unique axis\u001b[39;00m\n\u001b[0;32m   4757\u001b[0m \u001b[39melse\u001b[39;00m:\n",
      "File \u001b[1;32m~\\AppData\\Local\\Packages\\PythonSoftwareFoundation.Python.3.11_qbz5n2kfra8p0\\LocalCache\\local-packages\\Python311\\site-packages\\pandas\\core\\indexes\\base.py:6992\u001b[0m, in \u001b[0;36mIndex.drop\u001b[1;34m(self, labels, errors)\u001b[0m\n\u001b[0;32m   6990\u001b[0m \u001b[39mif\u001b[39;00m mask\u001b[39m.\u001b[39many():\n\u001b[0;32m   6991\u001b[0m     \u001b[39mif\u001b[39;00m errors \u001b[39m!=\u001b[39m \u001b[39m\"\u001b[39m\u001b[39mignore\u001b[39m\u001b[39m\"\u001b[39m:\n\u001b[1;32m-> 6992\u001b[0m         \u001b[39mraise\u001b[39;00m \u001b[39mKeyError\u001b[39;00m(\u001b[39mf\u001b[39m\u001b[39m\"\u001b[39m\u001b[39m{\u001b[39;00mlabels[mask]\u001b[39m.\u001b[39mtolist()\u001b[39m}\u001b[39;00m\u001b[39m not found in axis\u001b[39m\u001b[39m\"\u001b[39m)\n\u001b[0;32m   6993\u001b[0m     indexer \u001b[39m=\u001b[39m indexer[\u001b[39m~\u001b[39mmask]\n\u001b[0;32m   6994\u001b[0m \u001b[39mreturn\u001b[39;00m \u001b[39mself\u001b[39m\u001b[39m.\u001b[39mdelete(indexer)\n",
      "\u001b[1;31mKeyError\u001b[0m: '[0] not found in axis'"
     ]
    }
   ],
   "source": [
    "import numpy as np\n",
    "import selenium\n",
    "from selenium import webdriver\n",
    "from time import sleep\n",
    "import random\n",
    "from selenium.webdriver.common.keys import Keys\n",
    "from selenium.common.exceptions import NoSuchElementException, ElementNotInteractableException\n",
    "from selenium.webdriver.common.by import By\n",
    "import pandas as pd\n",
    "\n",
    "driver = selenium.webdriver.Chrome()\n",
    "base_url = \"https://ourworldindata.org/explorers/energy?\"\n",
    "\n",
    "# Truy cập trang web\n",
    "def crawl_data(year, type):\n",
    "    url = base_url+'tab=table&time={y}&facet=none&country=USA~GBR~CHN~OWID_WRL~IND~BRA~ZAF&hideControls=false&Total+or+Breakdown=Select+a+source&Energy+or+Electricity=Primary+energy&Metric=Per+capita+consumption&Select+a+source={t}'.format(y = year, t = type)\n",
    "    driver.get(url)\n",
    "    sleep(random.randint(5,10))\n",
    "\n",
    "    elems_coutry = driver.find_elements(By.CSS_SELECTOR, \".entity\")\n",
    "    country = [elem.text for elem in elems_coutry]\n",
    "\n",
    "    data =[]\n",
    "    data.append(0)\n",
    "    nam = []\n",
    "    for i in range (1,len(country)+1):\n",
    "        nam.append(int(year))\n",
    "        try:\n",
    "            elem_data = driver.find_element(\"xpath\", \"/html/body/main/div/div[3]/div/div[4]/div/div[2]/table/tbody/tr[{}]/td[2]\".format(i))\n",
    "            data.append(elem_data.text)\n",
    "        except NoSuchElementException:\n",
    "            data.append(None)\n",
    "\n",
    "    df = pd.DataFrame(list(zip(country,nam,data)),columns= ['Country','Year',type])\n",
    "    df = df = df.drop([0], axis=0)\n",
    "    df = df.drop(labels=df.index[-11:])\n",
    "    return df\n",
    "\n",
    "\n",
    "def crawl_type_data(type):\n",
    "    df = pd.DataFrame(columns= ['Country','Year',type])\n",
    "    for i in range(2000,2023):\n",
    "        df1 = crawl_data(i, type)\n",
    "        df = pd.merge(df, df1 ,how='outer',on=['Country','Year',type])\n",
    "    return df\n",
    "\n",
    "def crawl_full_data(types):\n",
    "    df = pd.DataFrame(columns= ['Country','Year'])\n",
    "    for type in types:\n",
    "        df1 = crawl_type_data(type)\n",
    "        df = pd.merge(df, df1 ,how='outer',on=['Country','Year'])\n",
    "    return df\n",
    "\n",
    "types = ['Fossil fuels','Gas','Coal','Oil','Solar','Wind','Low-cacbon','Renewables','Hydropower']\n",
    "#types = ['Fossil fuels','Gas']\n",
    "df = crawl_full_data(types)\n",
    "print(df)\n",
    "df.to_csv(\"data.csv\")\n"
   ]
  }
 ],
 "metadata": {
  "kernelspec": {
   "display_name": "Python 3 (ipykernel)",
   "language": "python",
   "name": "python3"
  },
  "language_info": {
   "codemirror_mode": {
    "name": "ipython",
    "version": 3
   },
   "file_extension": ".py",
   "mimetype": "text/x-python",
   "name": "python",
   "nbconvert_exporter": "python",
   "pygments_lexer": "ipython3",
   "version": "3.11.7"
  }
 },
 "nbformat": 4,
 "nbformat_minor": 5
}
